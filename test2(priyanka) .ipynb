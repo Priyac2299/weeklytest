{
 "cells": [
  {
   "cell_type": "code",
   "execution_count": 1,
   "id": "dc7106a5",
   "metadata": {},
   "outputs": [],
   "source": [
    "# Case Study 1: Sales Data Analysis\n",
    "# Scenario: You have a dataset containing sales data with columns for date, product ID, quantity sold, and total revenue. \n",
    "# Perform the following tasks:\n",
    "\n",
    "# Load the dataset into a Pandas DataFrame.\n",
    "# Calculate the total revenue and quantity sold for each product.\n",
    "# Identify the product with the highest total revenue.\n",
    "# Plot a bar chart showing the total revenue for each product."
   ]
  },
  {
   "cell_type": "code",
   "execution_count": 2,
   "id": "1b1730d4",
   "metadata": {},
   "outputs": [],
   "source": [
    "import pandas as pd"
   ]
  },
  {
   "cell_type": "code",
   "execution_count": 3,
   "id": "111b5a7b",
   "metadata": {},
   "outputs": [],
   "source": [
    "a={\n",
    "    \"date\":['2024-02-12','2024-02-12','2024-02-12','2024-02-12','2024-02-12','2024-02-12','2024-02-12','2024-02-12'],\n",
    "    \"product_Id\":['001','002','003','004','005','006','007','008'],\n",
    "    \"quantity_sold\":[4,7,10,8,15,9,13,16],\n",
    "    \"total_revenue\":[800,1400,2000,1600,3000,1800,2600,3200]\n",
    "}"
   ]
  },
  {
   "cell_type": "markdown",
   "id": "84c07243",
   "metadata": {},
   "source": [
    "# Load the dataset into a Pandas DataFrame."
   ]
  },
  {
   "cell_type": "code",
   "execution_count": 4,
   "id": "a37c63ba",
   "metadata": {},
   "outputs": [
    {
     "data": {
      "text/html": [
       "<div>\n",
       "<style scoped>\n",
       "    .dataframe tbody tr th:only-of-type {\n",
       "        vertical-align: middle;\n",
       "    }\n",
       "\n",
       "    .dataframe tbody tr th {\n",
       "        vertical-align: top;\n",
       "    }\n",
       "\n",
       "    .dataframe thead th {\n",
       "        text-align: right;\n",
       "    }\n",
       "</style>\n",
       "<table border=\"1\" class=\"dataframe\">\n",
       "  <thead>\n",
       "    <tr style=\"text-align: right;\">\n",
       "      <th></th>\n",
       "      <th>date</th>\n",
       "      <th>product_Id</th>\n",
       "      <th>quantity_sold</th>\n",
       "      <th>total_revenue</th>\n",
       "    </tr>\n",
       "  </thead>\n",
       "  <tbody>\n",
       "    <tr>\n",
       "      <th>0</th>\n",
       "      <td>2024-02-12</td>\n",
       "      <td>001</td>\n",
       "      <td>4</td>\n",
       "      <td>800</td>\n",
       "    </tr>\n",
       "    <tr>\n",
       "      <th>1</th>\n",
       "      <td>2024-02-12</td>\n",
       "      <td>002</td>\n",
       "      <td>7</td>\n",
       "      <td>1400</td>\n",
       "    </tr>\n",
       "    <tr>\n",
       "      <th>2</th>\n",
       "      <td>2024-02-12</td>\n",
       "      <td>003</td>\n",
       "      <td>10</td>\n",
       "      <td>2000</td>\n",
       "    </tr>\n",
       "    <tr>\n",
       "      <th>3</th>\n",
       "      <td>2024-02-12</td>\n",
       "      <td>004</td>\n",
       "      <td>8</td>\n",
       "      <td>1600</td>\n",
       "    </tr>\n",
       "    <tr>\n",
       "      <th>4</th>\n",
       "      <td>2024-02-12</td>\n",
       "      <td>005</td>\n",
       "      <td>15</td>\n",
       "      <td>3000</td>\n",
       "    </tr>\n",
       "    <tr>\n",
       "      <th>5</th>\n",
       "      <td>2024-02-12</td>\n",
       "      <td>006</td>\n",
       "      <td>9</td>\n",
       "      <td>1800</td>\n",
       "    </tr>\n",
       "    <tr>\n",
       "      <th>6</th>\n",
       "      <td>2024-02-12</td>\n",
       "      <td>007</td>\n",
       "      <td>13</td>\n",
       "      <td>2600</td>\n",
       "    </tr>\n",
       "    <tr>\n",
       "      <th>7</th>\n",
       "      <td>2024-02-12</td>\n",
       "      <td>008</td>\n",
       "      <td>16</td>\n",
       "      <td>3200</td>\n",
       "    </tr>\n",
       "  </tbody>\n",
       "</table>\n",
       "</div>"
      ],
      "text/plain": [
       "         date product_Id  quantity_sold  total_revenue\n",
       "0  2024-02-12        001              4            800\n",
       "1  2024-02-12        002              7           1400\n",
       "2  2024-02-12        003             10           2000\n",
       "3  2024-02-12        004              8           1600\n",
       "4  2024-02-12        005             15           3000\n",
       "5  2024-02-12        006              9           1800\n",
       "6  2024-02-12        007             13           2600\n",
       "7  2024-02-12        008             16           3200"
      ]
     },
     "execution_count": 4,
     "metadata": {},
     "output_type": "execute_result"
    }
   ],
   "source": [
    "df=pd.DataFrame(a)\n",
    "df"
   ]
  },
  {
   "cell_type": "markdown",
   "id": "0492d6a9",
   "metadata": {},
   "source": [
    "# Calculate the total revenue and quantity sold for each product."
   ]
  },
  {
   "cell_type": "code",
   "execution_count": 5,
   "id": "350054a0",
   "metadata": {},
   "outputs": [
    {
     "name": "stdout",
     "output_type": "stream",
     "text": [
      "16400\n"
     ]
    }
   ],
   "source": [
    "totalrevenue=df['total_revenue'].sum()\n",
    "print(totalrevenue)"
   ]
  },
  {
   "cell_type": "code",
   "execution_count": 6,
   "id": "368b52cc",
   "metadata": {},
   "outputs": [
    {
     "name": "stdout",
     "output_type": "stream",
     "text": [
      "product_Id\n",
      "001     4\n",
      "002     7\n",
      "003    10\n",
      "004     8\n",
      "005    15\n",
      "006     9\n",
      "007    13\n",
      "008    16\n",
      "Name: quantity_sold, dtype: int64\n"
     ]
    }
   ],
   "source": [
    "quantity_sold_each_product = df.groupby('product_Id')['quantity_sold'].sum()\n",
    "print(quantity_sold_each_product)"
   ]
  },
  {
   "cell_type": "markdown",
   "id": "e33c0df6",
   "metadata": {},
   "source": [
    "# Identify the product with the highest total revenue."
   ]
  },
  {
   "cell_type": "code",
   "execution_count": 7,
   "id": "fba99a2a",
   "metadata": {},
   "outputs": [],
   "source": [
    "highest_revenue_product_idx = df['total_revenue'].idxmax()\n"
   ]
  },
  {
   "cell_type": "code",
   "execution_count": 8,
   "id": "9cf27e13",
   "metadata": {},
   "outputs": [],
   "source": [
    "highest_revenue_product = df.loc[highest_revenue_product_idx]"
   ]
  },
  {
   "cell_type": "code",
   "execution_count": 9,
   "id": "e2171827",
   "metadata": {},
   "outputs": [
    {
     "name": "stdout",
     "output_type": "stream",
     "text": [
      "Product with the Highest Total Revenue:\n",
      "date             2024-02-12\n",
      "product_Id              008\n",
      "quantity_sold            16\n",
      "total_revenue          3200\n",
      "Name: 7, dtype: object\n"
     ]
    }
   ],
   "source": [
    "print(\"Product with the Highest Total Revenue:\")\n",
    "print(highest_revenue_product)"
   ]
  },
  {
   "cell_type": "markdown",
   "id": "af337756",
   "metadata": {},
   "source": [
    "# Plot a bar chart showing the total revenue for each product."
   ]
  },
  {
   "cell_type": "code",
   "execution_count": 10,
   "id": "218bdc72",
   "metadata": {},
   "outputs": [],
   "source": [
    "product_revenue = df.groupby('product_Id')['total_revenue'].sum()"
   ]
  },
  {
   "cell_type": "code",
   "execution_count": 11,
   "id": "7aa55399",
   "metadata": {},
   "outputs": [
    {
     "data": {
      "text/plain": [
       "<AxesSubplot:xlabel='product_Id'>"
      ]
     },
     "execution_count": 11,
     "metadata": {},
     "output_type": "execute_result"
    },
    {
     "data": {
      "image/png": "[encoded data removed]",
      "text/plain": [
       "<Figure size 432x288 with 1 Axes>"
      ]
     },
     "metadata": {
      "needs_background": "light"
     },
     "output_type": "display_data"
    }
   ],
   "source": [
    "product_revenue.plot(kind='bar', color='red')"
   ]
  },
  {
   "cell_type": "code",
   "execution_count": 12,
   "id": "73ba7dc5",
   "metadata": {},
   "outputs": [],
   "source": [
    "# Case Study 2: Student Performance Analysis\n",
    "# Scenario: You have a dataset containing student information, including names, grades, and attendance.\n",
    "# Perform the following tasks:\n",
    "# \n",
    "# Load the dataset into a Pandas DataFrame.\n",
    "# Calculate the average grade for each student.\n",
    "# Identify the student with the highest average grade.\n",
    "# Plot a histogram showing the distribution of grades."
   ]
  },
  {
   "cell_type": "code",
   "execution_count": 2,
   "id": "2fc23421",
   "metadata": {},
   "outputs": [],
   "source": [
    "data = {\n",
    "    'Name': ['priya', 'anu', 'Charu', 'saroj', 'kanchan'],\n",
    "    'Grade1': [85, 90, 75, 80, 95],\n",
    "    'Grade2':[67, 54, 89, 63, 78],\n",
    "    'Grade3':[86, 76, 59, 96, 67] ,\n",
    "    'Attendance': ['Present', 'Absent', 'Present', 'Present', 'Present']\n",
    "}"
   ]
  },
  {
   "cell_type": "markdown",
   "id": "34c9421f",
   "metadata": {},
   "source": [
    "# Load the dataset into a Pandas DataFrame."
   ]
  },
  {
   "cell_type": "code",
   "execution_count": 4,
   "id": "7aebc383",
   "metadata": {},
   "outputs": [],
   "source": [
    "import pandas as pd\n",
    "df1=pd.DataFrame(data)"
   ]
  },
  {
   "cell_type": "code",
   "execution_count": 5,
   "id": "7f65eb4a",
   "metadata": {},
   "outputs": [
    {
     "data": {
      "text/html": [
       "<div>\n",
       "<style scoped>\n",
       "    .dataframe tbody tr th:only-of-type {\n",
       "        vertical-align: middle;\n",
       "    }\n",
       "\n",
       "    .dataframe tbody tr th {\n",
       "        vertical-align: top;\n",
       "    }\n",
       "\n",
       "    .dataframe thead th {\n",
       "        text-align: right;\n",
       "    }\n",
       "</style>\n",
       "<table border=\"1\" class=\"dataframe\">\n",
       "  <thead>\n",
       "    <tr style=\"text-align: right;\">\n",
       "      <th></th>\n",
       "      <th>Name</th>\n",
       "      <th>Grade1</th>\n",
       "      <th>Grade2</th>\n",
       "      <th>Grade3</th>\n",
       "      <th>Attendance</th>\n",
       "    </tr>\n",
       "  </thead>\n",
       "  <tbody>\n",
       "    <tr>\n",
       "      <th>0</th>\n",
       "      <td>priya</td>\n",
       "      <td>85</td>\n",
       "      <td>67</td>\n",
       "      <td>86</td>\n",
       "      <td>Present</td>\n",
       "    </tr>\n",
       "    <tr>\n",
       "      <th>1</th>\n",
       "      <td>anu</td>\n",
       "      <td>90</td>\n",
       "      <td>54</td>\n",
       "      <td>76</td>\n",
       "      <td>Absent</td>\n",
       "    </tr>\n",
       "    <tr>\n",
       "      <th>2</th>\n",
       "      <td>Charu</td>\n",
       "      <td>75</td>\n",
       "      <td>89</td>\n",
       "      <td>59</td>\n",
       "      <td>Present</td>\n",
       "    </tr>\n",
       "    <tr>\n",
       "      <th>3</th>\n",
       "      <td>saroj</td>\n",
       "      <td>80</td>\n",
       "      <td>63</td>\n",
       "      <td>96</td>\n",
       "      <td>Present</td>\n",
       "    </tr>\n",
       "    <tr>\n",
       "      <th>4</th>\n",
       "      <td>kanchan</td>\n",
       "      <td>95</td>\n",
       "      <td>78</td>\n",
       "      <td>67</td>\n",
       "      <td>Present</td>\n",
       "    </tr>\n",
       "  </tbody>\n",
       "</table>\n",
       "</div>"
      ],
      "text/plain": [
       "      Name  Grade1  Grade2  Grade3 Attendance\n",
       "0    priya      85      67      86    Present\n",
       "1      anu      90      54      76     Absent\n",
       "2    Charu      75      89      59    Present\n",
       "3    saroj      80      63      96    Present\n",
       "4  kanchan      95      78      67    Present"
      ]
     },
     "execution_count": 5,
     "metadata": {},
     "output_type": "execute_result"
    }
   ],
   "source": [
    "df1\n"
   ]
  },
  {
   "cell_type": "markdown",
   "id": "3b3daabe",
   "metadata": {},
   "source": [
    "# Calculate the average grade for each student."
   ]
  },
  {
   "cell_type": "code",
   "execution_count": 6,
   "id": "f1cbb311",
   "metadata": {},
   "outputs": [],
   "source": [
    "df1['Average_Grade']=df1[['Grade1', 'Grade2','Grade3']].mean(axis=1)"
   ]
  },
  {
   "cell_type": "code",
   "execution_count": 7,
   "id": "ca21c44f",
   "metadata": {},
   "outputs": [
    {
     "data": {
      "text/plain": [
       "0    79.333333\n",
       "1    73.333333\n",
       "2    74.333333\n",
       "3    79.666667\n",
       "4    80.000000\n",
       "Name: Average_Grade, dtype: float64"
      ]
     },
     "execution_count": 7,
     "metadata": {},
     "output_type": "execute_result"
    }
   ],
   "source": [
    "df1['Average_Grade']"
   ]
  },
  {
   "cell_type": "markdown",
   "id": "a2b9c702",
   "metadata": {},
   "source": [
    "# Identify the student with the highest average grade."
   ]
  },
  {
   "cell_type": "code",
   "execution_count": 8,
   "id": "1ba0ae1c",
   "metadata": {},
   "outputs": [],
   "source": [
    "highest_avg = df1.loc[df1['Average_Grade'].idxmax()]"
   ]
  },
  {
   "cell_type": "code",
   "execution_count": 9,
   "id": "82e4276f",
   "metadata": {},
   "outputs": [
    {
     "data": {
      "text/plain": [
       "Name             kanchan\n",
       "Grade1                95\n",
       "Grade2                78\n",
       "Grade3                67\n",
       "Attendance       Present\n",
       "Average_Grade       80.0\n",
       "Name: 4, dtype: object"
      ]
     },
     "execution_count": 9,
     "metadata": {},
     "output_type": "execute_result"
    }
   ],
   "source": [
    "highest_avg "
   ]
  },
  {
   "cell_type": "markdown",
   "id": "19d945d2",
   "metadata": {},
   "source": [
    "# Plot a histogram showing the distribution of grades."
   ]
  },
  {
   "cell_type": "code",
   "execution_count": 10,
   "id": "4ad6be13",
   "metadata": {},
   "outputs": [],
   "source": [
    "import matplotlib.pyplot as plt \n",
    "import seaborn as sns"
   ]
  },
  {
   "cell_type": "code",
   "execution_count": 13,
   "id": "8f87ace5",
   "metadata": {},
   "outputs": [
    {
     "data": {
      "text/plain": [
       "<AxesSubplot:>"
      ]
     },
     "execution_count": 13,
     "metadata": {},
     "output_type": "execute_result"
    },
    {
     "data": {
      "image/png": "[encoded data removed]",
      "text/plain": [
       "<Figure size 432x288 with 1 Axes>"
      ]
     },
     "metadata": {
      "needs_background": "light"
     },
     "output_type": "display_data"
    }
   ],
   "source": [
    "df1['Average_Grade'].value_counts().plot(kind='bar')\n"
   ]
  },
  {
   "cell_type": "code",
   "execution_count": 32,
   "id": "ccaeeb8f",
   "metadata": {},
   "outputs": [],
   "source": [
    "# Case Study 3: Employee Salary Analysis\n",
    "# Scenario: You have a dataset containing information about employees, including their names, departments, and salaries. \n",
    "# Perform the following tasks:\n",
    "# \n",
    "# Load the dataset into a Pandas DataFrame.\n",
    "# Calculate the average salary for each department.\n",
    "# Identify the department with the highest average salary.\n",
    "# Plot a horizontal bar chart showing the average salary for each department.\n"
   ]
  },
  {
   "cell_type": "code",
   "execution_count": 33,
   "id": "6bbffe72",
   "metadata": {},
   "outputs": [],
   "source": [
    "data1 = {\n",
    "    'Name': ['priya', 'raj', 'Charu', 'chandu', 'anu','jyoti','kanchan','asha'],\n",
    "    'Department': ['HR', 'Engineering', 'Engineering', 'HR', 'Finance','developer','analyst','developer'],\n",
    "    'Salary': [60000, 80000, 75000, 65000, 90000,75000,65000,72000]\n",
    "}"
   ]
  },
  {
   "cell_type": "markdown",
   "id": "6477fa6a",
   "metadata": {},
   "source": [
    "# Load the dataset into a Pandas DataFrame."
   ]
  },
  {
   "cell_type": "code",
   "execution_count": 34,
   "id": "3aa0e726",
   "metadata": {},
   "outputs": [
    {
     "data": {
      "text/html": [
       "<div>\n",
       "<style scoped>\n",
       "    .dataframe tbody tr th:only-of-type {\n",
       "        vertical-align: middle;\n",
       "    }\n",
       "\n",
       "    .dataframe tbody tr th {\n",
       "        vertical-align: top;\n",
       "    }\n",
       "\n",
       "    .dataframe thead th {\n",
       "        text-align: right;\n",
       "    }\n",
       "</style>\n",
       "<table border=\"1\" class=\"dataframe\">\n",
       "  <thead>\n",
       "    <tr style=\"text-align: right;\">\n",
       "      <th></th>\n",
       "      <th>Name</th>\n",
       "      <th>Department</th>\n",
       "      <th>Salary</th>\n",
       "    </tr>\n",
       "  </thead>\n",
       "  <tbody>\n",
       "    <tr>\n",
       "      <th>0</th>\n",
       "      <td>priya</td>\n",
       "      <td>HR</td>\n",
       "      <td>60000</td>\n",
       "    </tr>\n",
       "    <tr>\n",
       "      <th>1</th>\n",
       "      <td>raj</td>\n",
       "      <td>Engineering</td>\n",
       "      <td>80000</td>\n",
       "    </tr>\n",
       "    <tr>\n",
       "      <th>2</th>\n",
       "      <td>Charu</td>\n",
       "      <td>Engineering</td>\n",
       "      <td>75000</td>\n",
       "    </tr>\n",
       "    <tr>\n",
       "      <th>3</th>\n",
       "      <td>chandu</td>\n",
       "      <td>HR</td>\n",
       "      <td>65000</td>\n",
       "    </tr>\n",
       "    <tr>\n",
       "      <th>4</th>\n",
       "      <td>anu</td>\n",
       "      <td>Finance</td>\n",
       "      <td>90000</td>\n",
       "    </tr>\n",
       "    <tr>\n",
       "      <th>5</th>\n",
       "      <td>jyoti</td>\n",
       "      <td>developer</td>\n",
       "      <td>75000</td>\n",
       "    </tr>\n",
       "    <tr>\n",
       "      <th>6</th>\n",
       "      <td>kanchan</td>\n",
       "      <td>analyst</td>\n",
       "      <td>65000</td>\n",
       "    </tr>\n",
       "    <tr>\n",
       "      <th>7</th>\n",
       "      <td>asha</td>\n",
       "      <td>developer</td>\n",
       "      <td>72000</td>\n",
       "    </tr>\n",
       "  </tbody>\n",
       "</table>\n",
       "</div>"
      ],
      "text/plain": [
       "      Name   Department  Salary\n",
       "0    priya           HR   60000\n",
       "1      raj  Engineering   80000\n",
       "2    Charu  Engineering   75000\n",
       "3   chandu           HR   65000\n",
       "4      anu      Finance   90000\n",
       "5    jyoti    developer   75000\n",
       "6  kanchan      analyst   65000\n",
       "7     asha    developer   72000"
      ]
     },
     "execution_count": 34,
     "metadata": {},
     "output_type": "execute_result"
    }
   ],
   "source": [
    "df2=pd.DataFrame(data1)\n",
    "df2"
   ]
  },
  {
   "cell_type": "markdown",
   "id": "cdd2a292",
   "metadata": {},
   "source": [
    "# Calculate the average salary for each department."
   ]
  },
  {
   "cell_type": "code",
   "execution_count": 35,
   "id": "e2ccf75e",
   "metadata": {},
   "outputs": [],
   "source": [
    "avg_salary_each_department = df2.groupby('Department')['Salary'].mean()"
   ]
  },
  {
   "cell_type": "code",
   "execution_count": 36,
   "id": "7768d552",
   "metadata": {},
   "outputs": [
    {
     "data": {
      "text/plain": [
       "Department\n",
       "Engineering    77500.0\n",
       "Finance        90000.0\n",
       "HR             62500.0\n",
       "analyst        65000.0\n",
       "developer      73500.0\n",
       "Name: Salary, dtype: float64"
      ]
     },
     "execution_count": 36,
     "metadata": {},
     "output_type": "execute_result"
    }
   ],
   "source": [
    "avg_salary_each_department"
   ]
  },
  {
   "cell_type": "markdown",
   "id": "b4e0e523",
   "metadata": {},
   "source": [
    "# Identify the department with the highest average salary."
   ]
  },
  {
   "cell_type": "code",
   "execution_count": 38,
   "id": "da818590",
   "metadata": {},
   "outputs": [],
   "source": [
    "highest_avg_salary_department = avg_salary_each_department.idxmax()"
   ]
  },
  {
   "cell_type": "code",
   "execution_count": 39,
   "id": "991749f6",
   "metadata": {},
   "outputs": [
    {
     "data": {
      "text/plain": [
       "'Finance'"
      ]
     },
     "execution_count": 39,
     "metadata": {},
     "output_type": "execute_result"
    }
   ],
   "source": [
    "highest_avg_salary_department"
   ]
  },
  {
   "cell_type": "markdown",
   "id": "81b5a020",
   "metadata": {},
   "source": [
    "# Plot a horizontal bar chart showing the average salary for each department.\n"
   ]
  },
  {
   "cell_type": "code",
   "execution_count": 40,
   "id": "d5d8565c",
   "metadata": {},
   "outputs": [
    {
     "data": {
      "image/png": "[encoded data removed]",
      "text/plain": [
       "<Figure size 432x288 with 1 Axes>"
      ]
     },
     "metadata": {
      "needs_background": "light"
     },
     "output_type": "display_data"
    }
   ],
   "source": [
    "avg_salary_each_department.plot(kind='barh', color='skyblue')\n",
    "plt.title('Average Salary by Department')\n",
    "plt.xlabel('Average Salary')\n",
    "plt.ylabel('Department')\n",
    "plt.show()"
   ]
  },
  {
   "cell_type": "markdown",
   "id": "67cde62e",
   "metadata": {},
   "source": [
    "# Q.1 How is NumPy better than List ?"
   ]
  },
  {
   "cell_type": "markdown",
   "id": "0583bf6c",
   "metadata": {},
   "source": [
    "Faster performance due to optimized C implementation.\n",
    "Comprehensive mathematical functions and operations.\n",
    "Broadcasting for efficient array operations.\n",
    "Support for multidimensional arrays.\n",
    "Powerful indexing and slicing capabilities."
   ]
  },
  {
   "cell_type": "markdown",
   "id": "9b978b89",
   "metadata": {},
   "source": [
    "# Q.2 Difference between zeros() , ones() , eye() , diag() , randomint() , rand() ?Please provide definition with examples ?"
   ]
  },
  {
   "cell_type": "code",
   "execution_count": 2,
   "id": "b45a9a9a",
   "metadata": {},
   "outputs": [],
   "source": [
    "# (1). zeros() : It will create an array in which all the values are zero . "
   ]
  },
  {
   "cell_type": "code",
   "execution_count": 3,
   "id": "03dbba01",
   "metadata": {},
   "outputs": [],
   "source": [
    "import numpy as np"
   ]
  },
  {
   "cell_type": "code",
   "execution_count": 5,
   "id": "a2204ee6",
   "metadata": {},
   "outputs": [
    {
     "data": {
      "text/plain": [
       "array([[0., 0., 0.],\n",
       "       [0., 0., 0.],\n",
       "       [0., 0., 0.]])"
      ]
     },
     "execution_count": 5,
     "metadata": {},
     "output_type": "execute_result"
    }
   ],
   "source": [
    "a=np.zeros((3,3))\n",
    "a"
   ]
  },
  {
   "cell_type": "code",
   "execution_count": 6,
   "id": "96873994",
   "metadata": {},
   "outputs": [],
   "source": [
    "# (2). Ones() : It will create an array in which all the values are one .     "
   ]
  },
  {
   "cell_type": "code",
   "execution_count": 7,
   "id": "9116ca2d",
   "metadata": {},
   "outputs": [
    {
     "data": {
      "text/plain": [
       "array([[1., 1., 1., 1.],\n",
       "       [1., 1., 1., 1.],\n",
       "       [1., 1., 1., 1.],\n",
       "       [1., 1., 1., 1.]])"
      ]
     },
     "execution_count": 7,
     "metadata": {},
     "output_type": "execute_result"
    }
   ],
   "source": [
    "a=np.ones((4,4))\n",
    "a"
   ]
  },
  {
   "cell_type": "code",
   "execution_count": 8,
   "id": "627c0066",
   "metadata": {},
   "outputs": [],
   "source": [
    "# (3). eye() : It will create an array in which digonal positional elements are 1 and rest all are zeros"
   ]
  },
  {
   "cell_type": "code",
   "execution_count": 11,
   "id": "a679b616",
   "metadata": {},
   "outputs": [
    {
     "data": {
      "text/plain": [
       "array([[1., 0., 0.],\n",
       "       [0., 1., 0.],\n",
       "       [0., 0., 1.]])"
      ]
     },
     "execution_count": 11,
     "metadata": {},
     "output_type": "execute_result"
    }
   ],
   "source": [
    "a=np.eye(3,3)\n",
    "a"
   ]
  },
  {
   "cell_type": "code",
   "execution_count": 12,
   "id": "2935de0e",
   "metadata": {},
   "outputs": [],
   "source": [
    "# (4). diag() : It will set our custom array on digonal position ."
   ]
  },
  {
   "cell_type": "code",
   "execution_count": 14,
   "id": "5228c52b",
   "metadata": {},
   "outputs": [
    {
     "data": {
      "text/plain": [
       "array([[1, 0, 0],\n",
       "       [0, 2, 0],\n",
       "       [0, 0, 3]])"
      ]
     },
     "execution_count": 14,
     "metadata": {},
     "output_type": "execute_result"
    }
   ],
   "source": [
    "a=np.array([1,2,3])\n",
    "b=np.diag(a)\n",
    "b"
   ]
  },
  {
   "cell_type": "code",
   "execution_count": 15,
   "id": "f73769b4",
   "metadata": {},
   "outputs": [],
   "source": [
    "# (5) random.randint(): Generates random integers between low limit (inclusive) and high limit (exclusive)."
   ]
  },
  {
   "cell_type": "code",
   "execution_count": 16,
   "id": "52e2bd2b",
   "metadata": {},
   "outputs": [
    {
     "data": {
      "text/plain": [
       "array([ 5, 36, 11, 15, 46, 13, 24, 22,  5, 16])"
      ]
     },
     "execution_count": 16,
     "metadata": {},
     "output_type": "execute_result"
    }
   ],
   "source": [
    "a = np.random.randint(5,50,10) \n",
    "a"
   ]
  },
  {
   "cell_type": "code",
   "execution_count": 17,
   "id": "56fc251c",
   "metadata": {},
   "outputs": [],
   "source": [
    "# (6) random.rand(): Generates an array of random numbers sampled from a uniform distribution over [0, 1)."
   ]
  },
  {
   "cell_type": "code",
   "execution_count": 19,
   "id": "701bac52",
   "metadata": {},
   "outputs": [
    {
     "data": {
      "text/plain": [
       "array([0.05694536, 0.76123276, 0.37677275, 0.13895202, 0.09959949,\n",
       "       0.70766472, 0.25665049, 0.72271494, 0.82628226, 0.12555701])"
      ]
     },
     "execution_count": 19,
     "metadata": {},
     "output_type": "execute_result"
    }
   ],
   "source": [
    "a = np.random.rand(10)\n",
    "a"
   ]
  },
  {
   "cell_type": "markdown",
   "id": "63a898da",
   "metadata": {},
   "source": [
    "# Q.3 Difference between linspace() and unique() with example?"
   ]
  },
  {
   "cell_type": "markdown",
   "id": "0d02f18d",
   "metadata": {},
   "source": [
    "# (1)linspace():\n",
    "linspace() is used to create an array of evenly spaced numbers over a specified interval.\n",
    "It divides the interval [] into num equally spaced points."
   ]
  },
  {
   "cell_type": "code",
   "execution_count": 20,
   "id": "b7338487",
   "metadata": {},
   "outputs": [
    {
     "data": {
      "text/plain": [
       "array([ 0.,  5., 10., 15., 20.])"
      ]
     },
     "execution_count": 20,
     "metadata": {},
     "output_type": "execute_result"
    }
   ],
   "source": [
    "a = np.linspace(0, 20, 5)\n",
    "a"
   ]
  },
  {
   "cell_type": "markdown",
   "id": "9340a3ce",
   "metadata": {},
   "source": [
    "# (2)unique():\n",
    "unique() is used to find the unique elements in an array.\n",
    "It returns the sorted unique elements of an array.\n",
    "It takes an array as input and returns a new array with only the unique elements."
   ]
  },
  {
   "cell_type": "code",
   "execution_count": 21,
   "id": "74bc14b8",
   "metadata": {},
   "outputs": [
    {
     "data": {
      "text/plain": [
       "(array([ 5, 10, 20, 25, 30, 40, 50]),\n",
       " array([0, 1, 3, 6, 5, 7, 9], dtype=int64),\n",
       " array([3, 2, 3, 2, 1, 2, 1], dtype=int64))"
      ]
     },
     "execution_count": 21,
     "metadata": {},
     "output_type": "execute_result"
    }
   ],
   "source": [
    "a = np.array([5,10,5,20,10,30,25,40,25,50,40,20,5,20])\n",
    "np.unique(a , return_index = True , return_counts = True)"
   ]
  },
  {
   "cell_type": "markdown",
   "id": "b768c77e",
   "metadata": {},
   "source": [
    "# Q.4 Difference between hstack() and vstack() ?"
   ]
  },
  {
   "cell_type": "markdown",
   "id": "23e8f8fc",
   "metadata": {},
   "source": [
    "# (1)hstack(): Horizontal Stack\n",
    "hstack() is used to stack arrays horizontally, i.e., it concatenates arrays along the horizontal axis.\n",
    "It takes a sequence of arrays as input and stacks them horizontally, side by side."
   ]
  },
  {
   "cell_type": "code",
   "execution_count": 22,
   "id": "530fb886",
   "metadata": {},
   "outputs": [
    {
     "name": "stdout",
     "output_type": "stream",
     "text": [
      "[1 2 3 4 5 6]\n"
     ]
    }
   ],
   "source": [
    "array1 = np.array([1, 2, 3])\n",
    "array2 = np.array([4, 5, 6])\n",
    "hstack_array = np.hstack((array1, array2))\n",
    "print(hstack_array)"
   ]
  },
  {
   "cell_type": "markdown",
   "id": "6c822eb1",
   "metadata": {},
   "source": [
    "# (2)vstack() : Vertical Stack\n",
    "vstack() is used to stack arrays vertically, i.e., it concatenates arrays along the vertical axis.\n",
    "It takes a sequence of arrays as input and stacks them vertically, one on top of the other."
   ]
  },
  {
   "cell_type": "code",
   "execution_count": 23,
   "id": "bc27b002",
   "metadata": {},
   "outputs": [
    {
     "name": "stdout",
     "output_type": "stream",
     "text": [
      "[[1 2 3]\n",
      " [4 5 6]]\n"
     ]
    }
   ],
   "source": [
    "array1 = np.array([1, 2, 3])\n",
    "array2 = np.array([4, 5, 6])\n",
    "vstack_array = np.vstack((array1, array2))\n",
    "print(vstack_array)"
   ]
  },
  {
   "cell_type": "markdown",
   "id": "554482bb",
   "metadata": {},
   "source": [
    "# Q.5 difference between loc() and iloc() ?"
   ]
  },
  {
   "cell_type": "markdown",
   "id": "aa7e366b",
   "metadata": {},
   "source": [
    "# (1)loc():\n",
    "loc() is primarily label-based indexing, which means it is used to access data using labels or boolean arrays that refer to \n",
    "the index of the DataFrame.\n",
    "It is used to select rows or columns based on their labels.\n",
    "It includes the end index in the selection."
   ]
  },
  {
   "cell_type": "code",
   "execution_count": 25,
   "id": "7c1b8660",
   "metadata": {},
   "outputs": [],
   "source": [
    "data1 = {\n",
    "    'Name': ['priya', 'raj', 'Charu', 'chandu', 'anu','jyoti','kanchan','asha'],\n",
    "    'Department': ['HR', 'Engineering', 'Engineering', 'HR', 'Finance','developer','analyst','developer'],\n",
    "    'Salary': [60000, 80000, 75000, 65000, 90000,75000,65000,72000]\n",
    "}"
   ]
  },
  {
   "cell_type": "code",
   "execution_count": 28,
   "id": "013556c9",
   "metadata": {},
   "outputs": [
    {
     "data": {
      "text/html": [
       "<div>\n",
       "<style scoped>\n",
       "    .dataframe tbody tr th:only-of-type {\n",
       "        vertical-align: middle;\n",
       "    }\n",
       "\n",
       "    .dataframe tbody tr th {\n",
       "        vertical-align: top;\n",
       "    }\n",
       "\n",
       "    .dataframe thead th {\n",
       "        text-align: right;\n",
       "    }\n",
       "</style>\n",
       "<table border=\"1\" class=\"dataframe\">\n",
       "  <thead>\n",
       "    <tr style=\"text-align: right;\">\n",
       "      <th></th>\n",
       "      <th>Name</th>\n",
       "      <th>Department</th>\n",
       "      <th>Salary</th>\n",
       "    </tr>\n",
       "  </thead>\n",
       "  <tbody>\n",
       "    <tr>\n",
       "      <th>0</th>\n",
       "      <td>priya</td>\n",
       "      <td>HR</td>\n",
       "      <td>60000</td>\n",
       "    </tr>\n",
       "    <tr>\n",
       "      <th>1</th>\n",
       "      <td>raj</td>\n",
       "      <td>Engineering</td>\n",
       "      <td>80000</td>\n",
       "    </tr>\n",
       "    <tr>\n",
       "      <th>2</th>\n",
       "      <td>Charu</td>\n",
       "      <td>Engineering</td>\n",
       "      <td>75000</td>\n",
       "    </tr>\n",
       "    <tr>\n",
       "      <th>3</th>\n",
       "      <td>chandu</td>\n",
       "      <td>HR</td>\n",
       "      <td>65000</td>\n",
       "    </tr>\n",
       "    <tr>\n",
       "      <th>4</th>\n",
       "      <td>anu</td>\n",
       "      <td>Finance</td>\n",
       "      <td>90000</td>\n",
       "    </tr>\n",
       "    <tr>\n",
       "      <th>5</th>\n",
       "      <td>jyoti</td>\n",
       "      <td>developer</td>\n",
       "      <td>75000</td>\n",
       "    </tr>\n",
       "    <tr>\n",
       "      <th>6</th>\n",
       "      <td>kanchan</td>\n",
       "      <td>analyst</td>\n",
       "      <td>65000</td>\n",
       "    </tr>\n",
       "    <tr>\n",
       "      <th>7</th>\n",
       "      <td>asha</td>\n",
       "      <td>developer</td>\n",
       "      <td>72000</td>\n",
       "    </tr>\n",
       "  </tbody>\n",
       "</table>\n",
       "</div>"
      ],
      "text/plain": [
       "      Name   Department  Salary\n",
       "0    priya           HR   60000\n",
       "1      raj  Engineering   80000\n",
       "2    Charu  Engineering   75000\n",
       "3   chandu           HR   65000\n",
       "4      anu      Finance   90000\n",
       "5    jyoti    developer   75000\n",
       "6  kanchan      analyst   65000\n",
       "7     asha    developer   72000"
      ]
     },
     "execution_count": 28,
     "metadata": {},
     "output_type": "execute_result"
    }
   ],
   "source": [
    "import pandas as pd \n",
    "df=pd.DataFrame(data1)\n",
    "df"
   ]
  },
  {
   "cell_type": "code",
   "execution_count": 29,
   "id": "d4ca27d6",
   "metadata": {},
   "outputs": [
    {
     "data": {
      "text/html": [
       "<div>\n",
       "<style scoped>\n",
       "    .dataframe tbody tr th:only-of-type {\n",
       "        vertical-align: middle;\n",
       "    }\n",
       "\n",
       "    .dataframe tbody tr th {\n",
       "        vertical-align: top;\n",
       "    }\n",
       "\n",
       "    .dataframe thead th {\n",
       "        text-align: right;\n",
       "    }\n",
       "</style>\n",
       "<table border=\"1\" class=\"dataframe\">\n",
       "  <thead>\n",
       "    <tr style=\"text-align: right;\">\n",
       "      <th></th>\n",
       "      <th>Name</th>\n",
       "      <th>Salary</th>\n",
       "    </tr>\n",
       "  </thead>\n",
       "  <tbody>\n",
       "    <tr>\n",
       "      <th>1</th>\n",
       "      <td>raj</td>\n",
       "      <td>80000</td>\n",
       "    </tr>\n",
       "    <tr>\n",
       "      <th>2</th>\n",
       "      <td>Charu</td>\n",
       "      <td>75000</td>\n",
       "    </tr>\n",
       "    <tr>\n",
       "      <th>3</th>\n",
       "      <td>chandu</td>\n",
       "      <td>65000</td>\n",
       "    </tr>\n",
       "    <tr>\n",
       "      <th>4</th>\n",
       "      <td>anu</td>\n",
       "      <td>90000</td>\n",
       "    </tr>\n",
       "  </tbody>\n",
       "</table>\n",
       "</div>"
      ],
      "text/plain": [
       "     Name  Salary\n",
       "1     raj   80000\n",
       "2   Charu   75000\n",
       "3  chandu   65000\n",
       "4     anu   90000"
      ]
     },
     "execution_count": 29,
     "metadata": {},
     "output_type": "execute_result"
    }
   ],
   "source": [
    "df.loc[1:4 , ['Name','Salary']]  "
   ]
  },
  {
   "cell_type": "markdown",
   "id": "c5addab0",
   "metadata": {},
   "source": [
    "# (2)iloc():\n",
    "iloc() is primarily integer-based indexing, which means it is used to access data using integer indices of the DataFrame.\n",
    "It is used to select rows or columns based on their integer position.\n",
    "It excludes the end index in the selection."
   ]
  },
  {
   "cell_type": "code",
   "execution_count": 31,
   "id": "d491f218",
   "metadata": {},
   "outputs": [
    {
     "data": {
      "text/html": [
       "<div>\n",
       "<style scoped>\n",
       "    .dataframe tbody tr th:only-of-type {\n",
       "        vertical-align: middle;\n",
       "    }\n",
       "\n",
       "    .dataframe tbody tr th {\n",
       "        vertical-align: top;\n",
       "    }\n",
       "\n",
       "    .dataframe thead th {\n",
       "        text-align: right;\n",
       "    }\n",
       "</style>\n",
       "<table border=\"1\" class=\"dataframe\">\n",
       "  <thead>\n",
       "    <tr style=\"text-align: right;\">\n",
       "      <th></th>\n",
       "      <th>Name</th>\n",
       "      <th>Department</th>\n",
       "      <th>Salary</th>\n",
       "    </tr>\n",
       "  </thead>\n",
       "  <tbody>\n",
       "    <tr>\n",
       "      <th>2</th>\n",
       "      <td>Charu</td>\n",
       "      <td>Engineering</td>\n",
       "      <td>75000</td>\n",
       "    </tr>\n",
       "    <tr>\n",
       "      <th>3</th>\n",
       "      <td>chandu</td>\n",
       "      <td>HR</td>\n",
       "      <td>65000</td>\n",
       "    </tr>\n",
       "    <tr>\n",
       "      <th>4</th>\n",
       "      <td>anu</td>\n",
       "      <td>Finance</td>\n",
       "      <td>90000</td>\n",
       "    </tr>\n",
       "    <tr>\n",
       "      <th>5</th>\n",
       "      <td>jyoti</td>\n",
       "      <td>developer</td>\n",
       "      <td>75000</td>\n",
       "    </tr>\n",
       "  </tbody>\n",
       "</table>\n",
       "</div>"
      ],
      "text/plain": [
       "     Name   Department  Salary\n",
       "2   Charu  Engineering   75000\n",
       "3  chandu           HR   65000\n",
       "4     anu      Finance   90000\n",
       "5   jyoti    developer   75000"
      ]
     },
     "execution_count": 31,
     "metadata": {},
     "output_type": "execute_result"
    }
   ],
   "source": [
    "df.iloc[2:6 , [0,1,2]]"
   ]
  },
  {
   "cell_type": "markdown",
   "id": "ab74cb90",
   "metadata": {},
   "source": [
    "# Q.6 Difference between Series and dataframe ?"
   ]
  },
  {
   "cell_type": "code",
   "execution_count": 1,
   "id": "33ce4bdc",
   "metadata": {},
   "outputs": [],
   "source": [
    "# (1). Series : Handle One-dimensional data . It will show only values."
   ]
  },
  {
   "cell_type": "code",
   "execution_count": 4,
   "id": "8c8dca0e",
   "metadata": {},
   "outputs": [
    {
     "data": {
      "text/plain": [
       "0    1\n",
       "1    2\n",
       "2    3\n",
       "3    4\n",
       "4    5\n",
       "dtype: int64"
      ]
     },
     "execution_count": 4,
     "metadata": {},
     "output_type": "execute_result"
    }
   ],
   "source": [
    "import pandas as pd\n",
    "a = pd.Series([1, 2, 3, 4, 5])\n",
    "a"
   ]
  },
  {
   "cell_type": "code",
   "execution_count": 5,
   "id": "87ee48fd",
   "metadata": {},
   "outputs": [],
   "source": [
    "# (2). DataFrame : Handle Multi-Dimensional data . \n",
    "# It will show column name with values. "
   ]
  },
  {
   "cell_type": "code",
   "execution_count": 6,
   "id": "90696315",
   "metadata": {},
   "outputs": [],
   "source": [
    "a={\n",
    "    \"date\":['2024-02-12','2024-02-12','2024-02-12','2024-02-12','2024-02-12','2024-02-12','2024-02-12','2024-02-12'],\n",
    "    \"product_Id\":['001','002','003','004','005','006','007','008'],\n",
    "    \"quantity_sold\":[4,7,10,8,15,9,13,16],\n",
    "    \"total_revenue\":[800,1400,2000,1600,3000,1800,2600,3200]\n",
    "}"
   ]
  },
  {
   "cell_type": "code",
   "execution_count": 9,
   "id": "53765fe7",
   "metadata": {},
   "outputs": [
    {
     "data": {
      "text/html": [
       "<div>\n",
       "<style scoped>\n",
       "    .dataframe tbody tr th:only-of-type {\n",
       "        vertical-align: middle;\n",
       "    }\n",
       "\n",
       "    .dataframe tbody tr th {\n",
       "        vertical-align: top;\n",
       "    }\n",
       "\n",
       "    .dataframe thead th {\n",
       "        text-align: right;\n",
       "    }\n",
       "</style>\n",
       "<table border=\"1\" class=\"dataframe\">\n",
       "  <thead>\n",
       "    <tr style=\"text-align: right;\">\n",
       "      <th></th>\n",
       "      <th>date</th>\n",
       "      <th>product_Id</th>\n",
       "      <th>quantity_sold</th>\n",
       "      <th>total_revenue</th>\n",
       "    </tr>\n",
       "  </thead>\n",
       "  <tbody>\n",
       "    <tr>\n",
       "      <th>0</th>\n",
       "      <td>2024-02-12</td>\n",
       "      <td>001</td>\n",
       "      <td>4</td>\n",
       "      <td>800</td>\n",
       "    </tr>\n",
       "    <tr>\n",
       "      <th>1</th>\n",
       "      <td>2024-02-12</td>\n",
       "      <td>002</td>\n",
       "      <td>7</td>\n",
       "      <td>1400</td>\n",
       "    </tr>\n",
       "    <tr>\n",
       "      <th>2</th>\n",
       "      <td>2024-02-12</td>\n",
       "      <td>003</td>\n",
       "      <td>10</td>\n",
       "      <td>2000</td>\n",
       "    </tr>\n",
       "    <tr>\n",
       "      <th>3</th>\n",
       "      <td>2024-02-12</td>\n",
       "      <td>004</td>\n",
       "      <td>8</td>\n",
       "      <td>1600</td>\n",
       "    </tr>\n",
       "    <tr>\n",
       "      <th>4</th>\n",
       "      <td>2024-02-12</td>\n",
       "      <td>005</td>\n",
       "      <td>15</td>\n",
       "      <td>3000</td>\n",
       "    </tr>\n",
       "    <tr>\n",
       "      <th>5</th>\n",
       "      <td>2024-02-12</td>\n",
       "      <td>006</td>\n",
       "      <td>9</td>\n",
       "      <td>1800</td>\n",
       "    </tr>\n",
       "    <tr>\n",
       "      <th>6</th>\n",
       "      <td>2024-02-12</td>\n",
       "      <td>007</td>\n",
       "      <td>13</td>\n",
       "      <td>2600</td>\n",
       "    </tr>\n",
       "    <tr>\n",
       "      <th>7</th>\n",
       "      <td>2024-02-12</td>\n",
       "      <td>008</td>\n",
       "      <td>16</td>\n",
       "      <td>3200</td>\n",
       "    </tr>\n",
       "  </tbody>\n",
       "</table>\n",
       "</div>"
      ],
      "text/plain": [
       "         date product_Id  quantity_sold  total_revenue\n",
       "0  2024-02-12        001              4            800\n",
       "1  2024-02-12        002              7           1400\n",
       "2  2024-02-12        003             10           2000\n",
       "3  2024-02-12        004              8           1600\n",
       "4  2024-02-12        005             15           3000\n",
       "5  2024-02-12        006              9           1800\n",
       "6  2024-02-12        007             13           2600\n",
       "7  2024-02-12        008             16           3200"
      ]
     },
     "execution_count": 9,
     "metadata": {},
     "output_type": "execute_result"
    }
   ],
   "source": [
    "df=pd.DataFrame(a)\n",
    "df"
   ]
  },
  {
   "cell_type": "markdown",
   "id": "b267b611",
   "metadata": {},
   "source": [
    "# Q.7 How do you check missing values using pandas ?"
   ]
  },
  {
   "cell_type": "code",
   "execution_count": 10,
   "id": "fddbe177",
   "metadata": {},
   "outputs": [
    {
     "data": {
      "text/plain": [
       "date             0\n",
       "product_Id       0\n",
       "quantity_sold    0\n",
       "total_revenue    0\n",
       "dtype: int64"
      ]
     },
     "execution_count": 10,
     "metadata": {},
     "output_type": "execute_result"
    }
   ],
   "source": [
    "df.isnull().sum()"
   ]
  },
  {
   "cell_type": "markdown",
   "id": "31382316",
   "metadata": {},
   "source": [
    "# Q.8 How do you  drop missing values using pandas ?"
   ]
  },
  {
   "cell_type": "code",
   "execution_count": 11,
   "id": "9d7cb195",
   "metadata": {},
   "outputs": [
    {
     "data": {
      "text/plain": [
       "date             0\n",
       "product_Id       0\n",
       "quantity_sold    0\n",
       "total_revenue    0\n",
       "dtype: int64"
      ]
     },
     "execution_count": 11,
     "metadata": {},
     "output_type": "execute_result"
    }
   ],
   "source": [
    "df = df.dropna() \n",
    "df.isnull().sum()"
   ]
  },
  {
   "cell_type": "markdown",
   "id": "e24cf94e",
   "metadata": {},
   "source": [
    "# Q.9 Prove that dataframe is mutable ?"
   ]
  },
  {
   "cell_type": "code",
   "execution_count": 12,
   "id": "22607434",
   "metadata": {},
   "outputs": [],
   "source": [
    "a={\n",
    "    'name':['priya','anu','golu','chandu','kanchan'],\n",
    "    'age':[13,24,25,17,23]\n",
    "}"
   ]
  },
  {
   "cell_type": "code",
   "execution_count": 13,
   "id": "9be3780b",
   "metadata": {},
   "outputs": [
    {
     "data": {
      "text/html": [
       "<div>\n",
       "<style scoped>\n",
       "    .dataframe tbody tr th:only-of-type {\n",
       "        vertical-align: middle;\n",
       "    }\n",
       "\n",
       "    .dataframe tbody tr th {\n",
       "        vertical-align: top;\n",
       "    }\n",
       "\n",
       "    .dataframe thead th {\n",
       "        text-align: right;\n",
       "    }\n",
       "</style>\n",
       "<table border=\"1\" class=\"dataframe\">\n",
       "  <thead>\n",
       "    <tr style=\"text-align: right;\">\n",
       "      <th></th>\n",
       "      <th>name</th>\n",
       "      <th>age</th>\n",
       "    </tr>\n",
       "  </thead>\n",
       "  <tbody>\n",
       "    <tr>\n",
       "      <th>0</th>\n",
       "      <td>priya</td>\n",
       "      <td>13</td>\n",
       "    </tr>\n",
       "    <tr>\n",
       "      <th>1</th>\n",
       "      <td>anu</td>\n",
       "      <td>24</td>\n",
       "    </tr>\n",
       "    <tr>\n",
       "      <th>2</th>\n",
       "      <td>golu</td>\n",
       "      <td>25</td>\n",
       "    </tr>\n",
       "    <tr>\n",
       "      <th>3</th>\n",
       "      <td>chandu</td>\n",
       "      <td>17</td>\n",
       "    </tr>\n",
       "    <tr>\n",
       "      <th>4</th>\n",
       "      <td>kanchan</td>\n",
       "      <td>23</td>\n",
       "    </tr>\n",
       "  </tbody>\n",
       "</table>\n",
       "</div>"
      ],
      "text/plain": [
       "      name  age\n",
       "0    priya   13\n",
       "1      anu   24\n",
       "2     golu   25\n",
       "3   chandu   17\n",
       "4  kanchan   23"
      ]
     },
     "execution_count": 13,
     "metadata": {},
     "output_type": "execute_result"
    }
   ],
   "source": [
    "b=pd.DataFrame(a)\n",
    "b"
   ]
  },
  {
   "cell_type": "code",
   "execution_count": 15,
   "id": "189e1428",
   "metadata": {},
   "outputs": [
    {
     "name": "stderr",
     "output_type": "stream",
     "text": [
      "C:\\Users\\MY LAPPY HOUSE\\AppData\\Local\\Temp\\ipykernel_9684\\102801642.py:2: SettingWithCopyWarning: \n",
      "A value is trying to be set on a copy of a slice from a DataFrame\n",
      "\n",
      "See the caveats in the documentation: https://pandas.pydata.org/pandas-docs/stable/user_guide/indexing.html#returning-a-view-versus-a-copy\n",
      "  b['name'][2]='krishan'\n"
     ]
    },
    {
     "data": {
      "text/html": [
       "<div>\n",
       "<style scoped>\n",
       "    .dataframe tbody tr th:only-of-type {\n",
       "        vertical-align: middle;\n",
       "    }\n",
       "\n",
       "    .dataframe tbody tr th {\n",
       "        vertical-align: top;\n",
       "    }\n",
       "\n",
       "    .dataframe thead th {\n",
       "        text-align: right;\n",
       "    }\n",
       "</style>\n",
       "<table border=\"1\" class=\"dataframe\">\n",
       "  <thead>\n",
       "    <tr style=\"text-align: right;\">\n",
       "      <th></th>\n",
       "      <th>name</th>\n",
       "      <th>age</th>\n",
       "    </tr>\n",
       "  </thead>\n",
       "  <tbody>\n",
       "    <tr>\n",
       "      <th>0</th>\n",
       "      <td>priya</td>\n",
       "      <td>13</td>\n",
       "    </tr>\n",
       "    <tr>\n",
       "      <th>1</th>\n",
       "      <td>anu</td>\n",
       "      <td>24</td>\n",
       "    </tr>\n",
       "    <tr>\n",
       "      <th>2</th>\n",
       "      <td>krishan</td>\n",
       "      <td>25</td>\n",
       "    </tr>\n",
       "    <tr>\n",
       "      <th>3</th>\n",
       "      <td>chandu</td>\n",
       "      <td>17</td>\n",
       "    </tr>\n",
       "    <tr>\n",
       "      <th>4</th>\n",
       "      <td>kanchan</td>\n",
       "      <td>23</td>\n",
       "    </tr>\n",
       "  </tbody>\n",
       "</table>\n",
       "</div>"
      ],
      "text/plain": [
       "      name  age\n",
       "0    priya   13\n",
       "1      anu   24\n",
       "2  krishan   25\n",
       "3   chandu   17\n",
       "4  kanchan   23"
      ]
     },
     "execution_count": 15,
     "metadata": {},
     "output_type": "execute_result"
    }
   ],
   "source": [
    "#modifing value\n",
    "b['name'][2]='krishan'\n",
    "b\n"
   ]
  },
  {
   "cell_type": "code",
   "execution_count": 16,
   "id": "dd6896e2",
   "metadata": {},
   "outputs": [
    {
     "name": "stderr",
     "output_type": "stream",
     "text": [
      "C:\\Users\\MY LAPPY HOUSE\\AppData\\Local\\Temp\\ipykernel_9684\\881303564.py:1: SettingWithCopyWarning: \n",
      "A value is trying to be set on a copy of a slice from a DataFrame\n",
      "\n",
      "See the caveats in the documentation: https://pandas.pydata.org/pandas-docs/stable/user_guide/indexing.html#returning-a-view-versus-a-copy\n",
      "  b['age'][1]=19\n"
     ]
    },
    {
     "data": {
      "text/html": [
       "<div>\n",
       "<style scoped>\n",
       "    .dataframe tbody tr th:only-of-type {\n",
       "        vertical-align: middle;\n",
       "    }\n",
       "\n",
       "    .dataframe tbody tr th {\n",
       "        vertical-align: top;\n",
       "    }\n",
       "\n",
       "    .dataframe thead th {\n",
       "        text-align: right;\n",
       "    }\n",
       "</style>\n",
       "<table border=\"1\" class=\"dataframe\">\n",
       "  <thead>\n",
       "    <tr style=\"text-align: right;\">\n",
       "      <th></th>\n",
       "      <th>name</th>\n",
       "      <th>age</th>\n",
       "    </tr>\n",
       "  </thead>\n",
       "  <tbody>\n",
       "    <tr>\n",
       "      <th>0</th>\n",
       "      <td>priya</td>\n",
       "      <td>13</td>\n",
       "    </tr>\n",
       "    <tr>\n",
       "      <th>1</th>\n",
       "      <td>anu</td>\n",
       "      <td>19</td>\n",
       "    </tr>\n",
       "    <tr>\n",
       "      <th>2</th>\n",
       "      <td>krishan</td>\n",
       "      <td>25</td>\n",
       "    </tr>\n",
       "    <tr>\n",
       "      <th>3</th>\n",
       "      <td>chandu</td>\n",
       "      <td>17</td>\n",
       "    </tr>\n",
       "    <tr>\n",
       "      <th>4</th>\n",
       "      <td>kanchan</td>\n",
       "      <td>23</td>\n",
       "    </tr>\n",
       "  </tbody>\n",
       "</table>\n",
       "</div>"
      ],
      "text/plain": [
       "      name  age\n",
       "0    priya   13\n",
       "1      anu   19\n",
       "2  krishan   25\n",
       "3   chandu   17\n",
       "4  kanchan   23"
      ]
     },
     "execution_count": 16,
     "metadata": {},
     "output_type": "execute_result"
    }
   ],
   "source": [
    "b['age'][1]=19\n",
    "b"
   ]
  },
  {
   "cell_type": "markdown",
   "id": "2a12f9a2",
   "metadata": {},
   "source": [
    "# Q.10 How  can you rename a column using pandas ? "
   ]
  },
  {
   "cell_type": "code",
   "execution_count": 18,
   "id": "b1bfc8f0",
   "metadata": {},
   "outputs": [
    {
     "data": {
      "text/html": [
       "<div>\n",
       "<style scoped>\n",
       "    .dataframe tbody tr th:only-of-type {\n",
       "        vertical-align: middle;\n",
       "    }\n",
       "\n",
       "    .dataframe tbody tr th {\n",
       "        vertical-align: top;\n",
       "    }\n",
       "\n",
       "    .dataframe thead th {\n",
       "        text-align: right;\n",
       "    }\n",
       "</style>\n",
       "<table border=\"1\" class=\"dataframe\">\n",
       "  <thead>\n",
       "    <tr style=\"text-align: right;\">\n",
       "      <th></th>\n",
       "      <th>studname</th>\n",
       "      <th>age</th>\n",
       "    </tr>\n",
       "  </thead>\n",
       "  <tbody>\n",
       "    <tr>\n",
       "      <th>0</th>\n",
       "      <td>priya</td>\n",
       "      <td>13</td>\n",
       "    </tr>\n",
       "    <tr>\n",
       "      <th>1</th>\n",
       "      <td>anu</td>\n",
       "      <td>19</td>\n",
       "    </tr>\n",
       "    <tr>\n",
       "      <th>2</th>\n",
       "      <td>krishan</td>\n",
       "      <td>25</td>\n",
       "    </tr>\n",
       "    <tr>\n",
       "      <th>3</th>\n",
       "      <td>chandu</td>\n",
       "      <td>17</td>\n",
       "    </tr>\n",
       "    <tr>\n",
       "      <th>4</th>\n",
       "      <td>kanchan</td>\n",
       "      <td>23</td>\n",
       "    </tr>\n",
       "  </tbody>\n",
       "</table>\n",
       "</div>"
      ],
      "text/plain": [
       "  studname  age\n",
       "0    priya   13\n",
       "1      anu   19\n",
       "2  krishan   25\n",
       "3   chandu   17\n",
       "4  kanchan   23"
      ]
     },
     "execution_count": 18,
     "metadata": {},
     "output_type": "execute_result"
    }
   ],
   "source": [
    "c = b.rename(columns={\"name\":\"studname\"})\n",
    "c"
   ]
  },
  {
   "cell_type": "code",
   "execution_count": null,
   "id": "02f017a2",
   "metadata": {},
   "outputs": [],
   "source": []
  }
 ],
 "metadata": {
  "kernelspec": {
   "display_name": "Python 3 (ipykernel)",
   "language": "python",
   "name": "python3"
  },
  "language_info": {
   "codemirror_mode": {
    "name": "ipython",
    "version": 3
   },
   "file_extension": ".py",
   "mimetype": "text/x-python",
   "name": "python",
   "nbconvert_exporter": "python",
   "pygments_lexer": "ipython3",
   "version": "3.9.18"
  }
 },
 "nbformat": 4,
 "nbformat_minor": 5
}
