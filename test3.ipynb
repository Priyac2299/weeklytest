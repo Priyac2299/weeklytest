{
 "cells": [
  {
   "cell_type": "code",
   "execution_count": 74,
   "id": "698e3a05",
   "metadata": {},
   "outputs": [],
   "source": [
    "# Case Study 1: Sales Analysis\n",
    "# Problem Statement:\n",
    "# You have a dataset containing sales data with information like product ID, sales quantity, and revenue. Perform the following\n",
    "# tasks:\n",
    "\n",
    "# Load the dataset and inspect its structure.\n",
    "# Clean the data (handle missing values, duplicates, etc.).\n",
    "# Calculate total revenue and quantity sold for each product.\n",
    "# Find the top-selling products.\n",
    "# Analyze monthly sales trends.\n"
   ]
  },
  {
   "cell_type": "code",
   "execution_count": 75,
   "id": "96e706cf",
   "metadata": {},
   "outputs": [],
   "source": [
    "import pandas as pd\n",
    "import numpy as np"
   ]
  },
  {
   "cell_type": "code",
   "execution_count": 76,
   "id": "139f77a8",
   "metadata": {},
   "outputs": [],
   "source": [
    "sales_data ={\n",
    "    \"date\":['2024-02-11','2024-02-12','2024-02-13','2024-02-14','2024-02-15','2024-02-16','2024-03-17','2024-03-18','2024-03-19'\n",
    "           ,'2024-03-20','2024-03-21','2024-03-22'],\n",
    "    \"product_Id\":['001','002','002','003','002','004','001','005','006','007','008','003'],\n",
    "    \"quantity_sold\":[4,7,10,8,15,9,13,16,5,3,2,7],\n",
    "    \"total_revenue\":[800,1400,2000,1600,3000,1800,2600,3200,1000,600,400,1400]\n",
    "}"
   ]
  },
  {
   "cell_type": "markdown",
   "id": "5ddf7785",
   "metadata": {},
   "source": [
    "# Load the dataset into a Pandas DataFrame."
   ]
  },
  {
   "cell_type": "code",
   "execution_count": 77,
   "id": "1e79aeca",
   "metadata": {},
   "outputs": [
    {
     "data": {
      "text/html": [
       "<div>\n",
       "<style scoped>\n",
       "    .dataframe tbody tr th:only-of-type {\n",
       "        vertical-align: middle;\n",
       "    }\n",
       "\n",
       "    .dataframe tbody tr th {\n",
       "        vertical-align: top;\n",
       "    }\n",
       "\n",
       "    .dataframe thead th {\n",
       "        text-align: right;\n",
       "    }\n",
       "</style>\n",
       "<table border=\"1\" class=\"dataframe\">\n",
       "  <thead>\n",
       "    <tr style=\"text-align: right;\">\n",
       "      <th></th>\n",
       "      <th>date</th>\n",
       "      <th>product_Id</th>\n",
       "      <th>quantity_sold</th>\n",
       "      <th>total_revenue</th>\n",
       "    </tr>\n",
       "  </thead>\n",
       "  <tbody>\n",
       "    <tr>\n",
       "      <th>0</th>\n",
       "      <td>2024-02-11</td>\n",
       "      <td>001</td>\n",
       "      <td>4</td>\n",
       "      <td>800</td>\n",
       "    </tr>\n",
       "    <tr>\n",
       "      <th>1</th>\n",
       "      <td>2024-02-12</td>\n",
       "      <td>002</td>\n",
       "      <td>7</td>\n",
       "      <td>1400</td>\n",
       "    </tr>\n",
       "    <tr>\n",
       "      <th>2</th>\n",
       "      <td>2024-02-13</td>\n",
       "      <td>002</td>\n",
       "      <td>10</td>\n",
       "      <td>2000</td>\n",
       "    </tr>\n",
       "    <tr>\n",
       "      <th>3</th>\n",
       "      <td>2024-02-14</td>\n",
       "      <td>003</td>\n",
       "      <td>8</td>\n",
       "      <td>1600</td>\n",
       "    </tr>\n",
       "    <tr>\n",
       "      <th>4</th>\n",
       "      <td>2024-02-15</td>\n",
       "      <td>002</td>\n",
       "      <td>15</td>\n",
       "      <td>3000</td>\n",
       "    </tr>\n",
       "    <tr>\n",
       "      <th>5</th>\n",
       "      <td>2024-02-16</td>\n",
       "      <td>004</td>\n",
       "      <td>9</td>\n",
       "      <td>1800</td>\n",
       "    </tr>\n",
       "    <tr>\n",
       "      <th>6</th>\n",
       "      <td>2024-03-17</td>\n",
       "      <td>001</td>\n",
       "      <td>13</td>\n",
       "      <td>2600</td>\n",
       "    </tr>\n",
       "    <tr>\n",
       "      <th>7</th>\n",
       "      <td>2024-03-18</td>\n",
       "      <td>005</td>\n",
       "      <td>16</td>\n",
       "      <td>3200</td>\n",
       "    </tr>\n",
       "    <tr>\n",
       "      <th>8</th>\n",
       "      <td>2024-03-19</td>\n",
       "      <td>006</td>\n",
       "      <td>5</td>\n",
       "      <td>1000</td>\n",
       "    </tr>\n",
       "    <tr>\n",
       "      <th>9</th>\n",
       "      <td>2024-03-20</td>\n",
       "      <td>007</td>\n",
       "      <td>3</td>\n",
       "      <td>600</td>\n",
       "    </tr>\n",
       "    <tr>\n",
       "      <th>10</th>\n",
       "      <td>2024-03-21</td>\n",
       "      <td>008</td>\n",
       "      <td>2</td>\n",
       "      <td>400</td>\n",
       "    </tr>\n",
       "    <tr>\n",
       "      <th>11</th>\n",
       "      <td>2024-03-22</td>\n",
       "      <td>003</td>\n",
       "      <td>7</td>\n",
       "      <td>1400</td>\n",
       "    </tr>\n",
       "  </tbody>\n",
       "</table>\n",
       "</div>"
      ],
      "text/plain": [
       "          date product_Id  quantity_sold  total_revenue\n",
       "0   2024-02-11        001              4            800\n",
       "1   2024-02-12        002              7           1400\n",
       "2   2024-02-13        002             10           2000\n",
       "3   2024-02-14        003              8           1600\n",
       "4   2024-02-15        002             15           3000\n",
       "5   2024-02-16        004              9           1800\n",
       "6   2024-03-17        001             13           2600\n",
       "7   2024-03-18        005             16           3200\n",
       "8   2024-03-19        006              5           1000\n",
       "9   2024-03-20        007              3            600\n",
       "10  2024-03-21        008              2            400\n",
       "11  2024-03-22        003              7           1400"
      ]
     },
     "execution_count": 77,
     "metadata": {},
     "output_type": "execute_result"
    }
   ],
   "source": [
    "df=pd.DataFrame(sales_data)                                  # Load dataset\n",
    "df"
   ]
  },
  {
   "cell_type": "markdown",
   "id": "c8f235a1",
   "metadata": {},
   "source": [
    "# Inspecting its structure."
   ]
  },
  {
   "cell_type": "code",
   "execution_count": 78,
   "id": "c6dd8b0c",
   "metadata": {},
   "outputs": [
    {
     "data": {
      "text/html": [
       "<div>\n",
       "<style scoped>\n",
       "    .dataframe tbody tr th:only-of-type {\n",
       "        vertical-align: middle;\n",
       "    }\n",
       "\n",
       "    .dataframe tbody tr th {\n",
       "        vertical-align: top;\n",
       "    }\n",
       "\n",
       "    .dataframe thead th {\n",
       "        text-align: right;\n",
       "    }\n",
       "</style>\n",
       "<table border=\"1\" class=\"dataframe\">\n",
       "  <thead>\n",
       "    <tr style=\"text-align: right;\">\n",
       "      <th></th>\n",
       "      <th>date</th>\n",
       "      <th>product_Id</th>\n",
       "      <th>quantity_sold</th>\n",
       "      <th>total_revenue</th>\n",
       "    </tr>\n",
       "  </thead>\n",
       "  <tbody>\n",
       "    <tr>\n",
       "      <th>0</th>\n",
       "      <td>2024-02-11</td>\n",
       "      <td>001</td>\n",
       "      <td>4</td>\n",
       "      <td>800</td>\n",
       "    </tr>\n",
       "    <tr>\n",
       "      <th>1</th>\n",
       "      <td>2024-02-12</td>\n",
       "      <td>002</td>\n",
       "      <td>7</td>\n",
       "      <td>1400</td>\n",
       "    </tr>\n",
       "    <tr>\n",
       "      <th>2</th>\n",
       "      <td>2024-02-13</td>\n",
       "      <td>002</td>\n",
       "      <td>10</td>\n",
       "      <td>2000</td>\n",
       "    </tr>\n",
       "    <tr>\n",
       "      <th>3</th>\n",
       "      <td>2024-02-14</td>\n",
       "      <td>003</td>\n",
       "      <td>8</td>\n",
       "      <td>1600</td>\n",
       "    </tr>\n",
       "    <tr>\n",
       "      <th>4</th>\n",
       "      <td>2024-02-15</td>\n",
       "      <td>002</td>\n",
       "      <td>15</td>\n",
       "      <td>3000</td>\n",
       "    </tr>\n",
       "  </tbody>\n",
       "</table>\n",
       "</div>"
      ],
      "text/plain": [
       "         date product_Id  quantity_sold  total_revenue\n",
       "0  2024-02-11        001              4            800\n",
       "1  2024-02-12        002              7           1400\n",
       "2  2024-02-13        002             10           2000\n",
       "3  2024-02-14        003              8           1600\n",
       "4  2024-02-15        002             15           3000"
      ]
     },
     "execution_count": 78,
     "metadata": {},
     "output_type": "execute_result"
    }
   ],
   "source": [
    "df.head()"
   ]
  },
  {
   "cell_type": "code",
   "execution_count": 79,
   "id": "f8ee0f5a",
   "metadata": {},
   "outputs": [
    {
     "name": "stdout",
     "output_type": "stream",
     "text": [
      "<class 'pandas.core.frame.DataFrame'>\n",
      "RangeIndex: 12 entries, 0 to 11\n",
      "Data columns (total 4 columns):\n",
      " #   Column         Non-Null Count  Dtype \n",
      "---  ------         --------------  ----- \n",
      " 0   date           12 non-null     object\n",
      " 1   product_Id     12 non-null     object\n",
      " 2   quantity_sold  12 non-null     int64 \n",
      " 3   total_revenue  12 non-null     int64 \n",
      "dtypes: int64(2), object(2)\n",
      "memory usage: 512.0+ bytes\n"
     ]
    }
   ],
   "source": [
    "df.info()"
   ]
  },
  {
   "cell_type": "code",
   "execution_count": 80,
   "id": "b223aa55",
   "metadata": {},
   "outputs": [
    {
     "data": {
      "text/html": [
       "<div>\n",
       "<style scoped>\n",
       "    .dataframe tbody tr th:only-of-type {\n",
       "        vertical-align: middle;\n",
       "    }\n",
       "\n",
       "    .dataframe tbody tr th {\n",
       "        vertical-align: top;\n",
       "    }\n",
       "\n",
       "    .dataframe thead th {\n",
       "        text-align: right;\n",
       "    }\n",
       "</style>\n",
       "<table border=\"1\" class=\"dataframe\">\n",
       "  <thead>\n",
       "    <tr style=\"text-align: right;\">\n",
       "      <th></th>\n",
       "      <th>quantity_sold</th>\n",
       "      <th>total_revenue</th>\n",
       "    </tr>\n",
       "  </thead>\n",
       "  <tbody>\n",
       "    <tr>\n",
       "      <th>count</th>\n",
       "      <td>12.00000</td>\n",
       "      <td>12.00000</td>\n",
       "    </tr>\n",
       "    <tr>\n",
       "      <th>mean</th>\n",
       "      <td>8.25000</td>\n",
       "      <td>1650.00000</td>\n",
       "    </tr>\n",
       "    <tr>\n",
       "      <th>std</th>\n",
       "      <td>4.57513</td>\n",
       "      <td>915.02608</td>\n",
       "    </tr>\n",
       "    <tr>\n",
       "      <th>min</th>\n",
       "      <td>2.00000</td>\n",
       "      <td>400.00000</td>\n",
       "    </tr>\n",
       "    <tr>\n",
       "      <th>25%</th>\n",
       "      <td>4.75000</td>\n",
       "      <td>950.00000</td>\n",
       "    </tr>\n",
       "    <tr>\n",
       "      <th>50%</th>\n",
       "      <td>7.50000</td>\n",
       "      <td>1500.00000</td>\n",
       "    </tr>\n",
       "    <tr>\n",
       "      <th>75%</th>\n",
       "      <td>10.75000</td>\n",
       "      <td>2150.00000</td>\n",
       "    </tr>\n",
       "    <tr>\n",
       "      <th>max</th>\n",
       "      <td>16.00000</td>\n",
       "      <td>3200.00000</td>\n",
       "    </tr>\n",
       "  </tbody>\n",
       "</table>\n",
       "</div>"
      ],
      "text/plain": [
       "       quantity_sold  total_revenue\n",
       "count       12.00000       12.00000\n",
       "mean         8.25000     1650.00000\n",
       "std          4.57513      915.02608\n",
       "min          2.00000      400.00000\n",
       "25%          4.75000      950.00000\n",
       "50%          7.50000     1500.00000\n",
       "75%         10.75000     2150.00000\n",
       "max         16.00000     3200.00000"
      ]
     },
     "execution_count": 80,
     "metadata": {},
     "output_type": "execute_result"
    }
   ],
   "source": [
    "df.describe()"
   ]
  },
  {
   "cell_type": "markdown",
   "id": "07841ac7",
   "metadata": {},
   "source": [
    "# Clean the data (handle missing values, duplicates, etc.)."
   ]
  },
  {
   "cell_type": "code",
   "execution_count": 81,
   "id": "e2c1a7c2",
   "metadata": {},
   "outputs": [],
   "source": [
    "# check Missing Values in a data"
   ]
  },
  {
   "cell_type": "code",
   "execution_count": 82,
   "id": "ca017a07",
   "metadata": {},
   "outputs": [
    {
     "data": {
      "text/plain": [
       "date             0\n",
       "product_Id       0\n",
       "quantity_sold    0\n",
       "total_revenue    0\n",
       "dtype: int64"
      ]
     },
     "execution_count": 82,
     "metadata": {},
     "output_type": "execute_result"
    }
   ],
   "source": [
    "df.isnull().sum()"
   ]
  },
  {
   "cell_type": "code",
   "execution_count": 83,
   "id": "9fa50965",
   "metadata": {},
   "outputs": [],
   "source": [
    "# drop Missing values"
   ]
  },
  {
   "cell_type": "code",
   "execution_count": 84,
   "id": "d9f83623",
   "metadata": {},
   "outputs": [
    {
     "data": {
      "text/plain": [
       "date             0\n",
       "product_Id       0\n",
       "quantity_sold    0\n",
       "total_revenue    0\n",
       "dtype: int64"
      ]
     },
     "execution_count": 84,
     "metadata": {},
     "output_type": "execute_result"
    }
   ],
   "source": [
    "df = df.dropna() \n",
    "df.isnull().sum()"
   ]
  },
  {
   "cell_type": "code",
   "execution_count": 85,
   "id": "e14de750",
   "metadata": {},
   "outputs": [],
   "source": [
    "# check duplicate values"
   ]
  },
  {
   "cell_type": "code",
   "execution_count": 86,
   "id": "f9e7600c",
   "metadata": {},
   "outputs": [
    {
     "data": {
      "text/html": [
       "<div>\n",
       "<style scoped>\n",
       "    .dataframe tbody tr th:only-of-type {\n",
       "        vertical-align: middle;\n",
       "    }\n",
       "\n",
       "    .dataframe tbody tr th {\n",
       "        vertical-align: top;\n",
       "    }\n",
       "\n",
       "    .dataframe thead th {\n",
       "        text-align: right;\n",
       "    }\n",
       "</style>\n",
       "<table border=\"1\" class=\"dataframe\">\n",
       "  <thead>\n",
       "    <tr style=\"text-align: right;\">\n",
       "      <th></th>\n",
       "      <th>date</th>\n",
       "      <th>product_Id</th>\n",
       "      <th>quantity_sold</th>\n",
       "      <th>total_revenue</th>\n",
       "    </tr>\n",
       "  </thead>\n",
       "  <tbody>\n",
       "    <tr>\n",
       "      <th>0</th>\n",
       "      <td>2024-02-11</td>\n",
       "      <td>001</td>\n",
       "      <td>4</td>\n",
       "      <td>800</td>\n",
       "    </tr>\n",
       "    <tr>\n",
       "      <th>1</th>\n",
       "      <td>2024-02-12</td>\n",
       "      <td>002</td>\n",
       "      <td>7</td>\n",
       "      <td>1400</td>\n",
       "    </tr>\n",
       "    <tr>\n",
       "      <th>2</th>\n",
       "      <td>2024-02-13</td>\n",
       "      <td>002</td>\n",
       "      <td>10</td>\n",
       "      <td>2000</td>\n",
       "    </tr>\n",
       "    <tr>\n",
       "      <th>3</th>\n",
       "      <td>2024-02-14</td>\n",
       "      <td>003</td>\n",
       "      <td>8</td>\n",
       "      <td>1600</td>\n",
       "    </tr>\n",
       "    <tr>\n",
       "      <th>4</th>\n",
       "      <td>2024-02-15</td>\n",
       "      <td>002</td>\n",
       "      <td>15</td>\n",
       "      <td>3000</td>\n",
       "    </tr>\n",
       "    <tr>\n",
       "      <th>5</th>\n",
       "      <td>2024-02-16</td>\n",
       "      <td>004</td>\n",
       "      <td>9</td>\n",
       "      <td>1800</td>\n",
       "    </tr>\n",
       "    <tr>\n",
       "      <th>6</th>\n",
       "      <td>2024-03-17</td>\n",
       "      <td>001</td>\n",
       "      <td>13</td>\n",
       "      <td>2600</td>\n",
       "    </tr>\n",
       "    <tr>\n",
       "      <th>7</th>\n",
       "      <td>2024-03-18</td>\n",
       "      <td>005</td>\n",
       "      <td>16</td>\n",
       "      <td>3200</td>\n",
       "    </tr>\n",
       "    <tr>\n",
       "      <th>8</th>\n",
       "      <td>2024-03-19</td>\n",
       "      <td>006</td>\n",
       "      <td>5</td>\n",
       "      <td>1000</td>\n",
       "    </tr>\n",
       "    <tr>\n",
       "      <th>9</th>\n",
       "      <td>2024-03-20</td>\n",
       "      <td>007</td>\n",
       "      <td>3</td>\n",
       "      <td>600</td>\n",
       "    </tr>\n",
       "    <tr>\n",
       "      <th>10</th>\n",
       "      <td>2024-03-21</td>\n",
       "      <td>008</td>\n",
       "      <td>2</td>\n",
       "      <td>400</td>\n",
       "    </tr>\n",
       "    <tr>\n",
       "      <th>11</th>\n",
       "      <td>2024-03-22</td>\n",
       "      <td>003</td>\n",
       "      <td>7</td>\n",
       "      <td>1400</td>\n",
       "    </tr>\n",
       "  </tbody>\n",
       "</table>\n",
       "</div>"
      ],
      "text/plain": [
       "          date product_Id  quantity_sold  total_revenue\n",
       "0   2024-02-11        001              4            800\n",
       "1   2024-02-12        002              7           1400\n",
       "2   2024-02-13        002             10           2000\n",
       "3   2024-02-14        003              8           1600\n",
       "4   2024-02-15        002             15           3000\n",
       "5   2024-02-16        004              9           1800\n",
       "6   2024-03-17        001             13           2600\n",
       "7   2024-03-18        005             16           3200\n",
       "8   2024-03-19        006              5           1000\n",
       "9   2024-03-20        007              3            600\n",
       "10  2024-03-21        008              2            400\n",
       "11  2024-03-22        003              7           1400"
      ]
     },
     "execution_count": 86,
     "metadata": {},
     "output_type": "execute_result"
    }
   ],
   "source": [
    "df.drop_duplicates()"
   ]
  },
  {
   "cell_type": "markdown",
   "id": "cfc938eb",
   "metadata": {},
   "source": [
    "# Calculate total revenue and quantity sold for each product."
   ]
  },
  {
   "cell_type": "code",
   "execution_count": 87,
   "id": "49301ebb",
   "metadata": {},
   "outputs": [
    {
     "name": "stdout",
     "output_type": "stream",
     "text": [
      "19800\n"
     ]
    }
   ],
   "source": [
    "totalrevenue=df['total_revenue'].sum()\n",
    "print(totalrevenue)"
   ]
  },
  {
   "cell_type": "code",
   "execution_count": 88,
   "id": "ae859125",
   "metadata": {},
   "outputs": [
    {
     "name": "stdout",
     "output_type": "stream",
     "text": [
      "product_Id\n",
      "001    17\n",
      "002    32\n",
      "003    15\n",
      "004     9\n",
      "005    16\n",
      "006     5\n",
      "007     3\n",
      "008     2\n",
      "Name: quantity_sold, dtype: int64\n"
     ]
    }
   ],
   "source": [
    "quantity_sold_each_product = df.groupby('product_Id')['quantity_sold'].sum()\n",
    "print(quantity_sold_each_product)"
   ]
  },
  {
   "cell_type": "markdown",
   "id": "b2c67f68",
   "metadata": {},
   "source": [
    "# Find the top-selling products."
   ]
  },
  {
   "cell_type": "code",
   "execution_count": 89,
   "id": "38d63b3e",
   "metadata": {},
   "outputs": [
    {
     "data": {
      "text/plain": [
       "product_Id\n",
       "001    17\n",
       "Name: quantity_sold, dtype: int64"
      ]
     },
     "execution_count": 89,
     "metadata": {},
     "output_type": "execute_result"
    }
   ],
   "source": [
    "quantity_sold_each_product.head(1)"
   ]
  },
  {
   "cell_type": "markdown",
   "id": "c138aa9d",
   "metadata": {},
   "source": [
    "# Analyze monthly sales trends."
   ]
  },
  {
   "cell_type": "code",
   "execution_count": 90,
   "id": "32281983",
   "metadata": {},
   "outputs": [],
   "source": [
    "df['date'] = pd.to_datetime(df['date'])                     # Convert date to datetime format"
   ]
  },
  {
   "cell_type": "code",
   "execution_count": 91,
   "id": "b8bc7382",
   "metadata": {},
   "outputs": [],
   "source": [
    "df['Month'] = df['date'].dt.month                           # Extract month from date"
   ]
  },
  {
   "cell_type": "code",
   "execution_count": 92,
   "id": "f432e7a4",
   "metadata": {},
   "outputs": [
    {
     "name": "stdout",
     "output_type": "stream",
     "text": [
      "\n",
      "Monthly Sales Trends:\n",
      "       quantity_sold  total_revenue\n",
      "Month                              \n",
      "2                 53          10600\n",
      "3                 46           9200\n"
     ]
    }
   ],
   "source": [
    "monthly_sales = df.groupby('Month').agg({'quantity_sold': 'sum', 'total_revenue': 'sum'})\n",
    "print(\"\\nMonthly Sales Trends:\")\n",
    "print(monthly_sales)"
   ]
  },
  {
   "cell_type": "code",
   "execution_count": 93,
   "id": "edd8c11d",
   "metadata": {},
   "outputs": [],
   "source": [
    "import matplotlib.pyplot as plt"
   ]
  },
  {
   "cell_type": "code",
   "execution_count": 94,
   "id": "8fb49a2d",
   "metadata": {},
   "outputs": [],
   "source": [
    "monthly_sales = monthly_sales.reset_index()          #Reset index to have Month as a column"
   ]
  },
  {
   "cell_type": "code",
   "execution_count": 95,
   "id": "90882ccf",
   "metadata": {},
   "outputs": [
    {
     "data": {
      "image/png": "[encoded data removed]",
      "text/plain": [
       "<Figure size 640x480 with 1 Axes>"
      ]
     },
     "metadata": {},
     "output_type": "display_data"
    }
   ],
   "source": [
    "#Plotting trend line\n",
    "plt.plot(monthly_sales['Month'], monthly_sales['quantity_sold'], marker='o', linestyle='-')\n",
    "plt.title('Monthly Sales Trend')\n",
    "plt.xlabel('Month')\n",
    "plt.ylabel('Total Sales Quantity')\n",
    "plt.xticks(range(1, 13))  \n",
    "plt.show()"
   ]
  },
  {
   "cell_type": "code",
   "execution_count": 96,
   "id": "84120942",
   "metadata": {},
   "outputs": [],
   "source": [
    "# Case Study 2: Employee Performance Analysis\n",
    "# Problem Statement:\n",
    "# You have a dataset with information about employees, including their performance ratings, years of experience, and department.\n",
    "# Perform the following tasks:\n",
    "\n",
    "# Load the dataset and understand its structure.\n",
    "# Explore the distribution of performance ratings.\n",
    "# Identify factors affecting performance (e.g., experience, department).\n",
    "# Calculate average performance ratings for each department.\n",
    "# Visualize the performance distribution using histograms.\n"
   ]
  },
  {
   "cell_type": "code",
   "execution_count": 97,
   "id": "92685d36",
   "metadata": {},
   "outputs": [],
   "source": [
    "import pandas as pd\n",
    "import numpy as np\n",
    "import matplotlib.pyplot as plt\n",
    "import seaborn as sns"
   ]
  },
  {
   "cell_type": "code",
   "execution_count": 98,
   "id": "f303ea4e",
   "metadata": {},
   "outputs": [],
   "source": [
    "data = {\n",
    "    'Employee_ID': ['101','102','103','104','105','106','107','108','109','110','111','112','113','114','115'],\n",
    "    'Performance_Rating': [5,3,7,8,6,2,9,6,8,6,10,4,9,10,8],\n",
    "    'Years_Experience': [2,1,6,7,5,1,8,5,9,4,11,3,8,12,6],\n",
    "    'Department': ['HR', 'Finance', 'IT', 'Marketing','developer','analyst','HR', 'Finance', 'IT', 'Marketing','developer',\n",
    "                   'analyst','Marketing','HR','IT']\n",
    "}"
   ]
  },
  {
   "cell_type": "markdown",
   "id": "1eb1fd4e",
   "metadata": {},
   "source": [
    "# Load the dataset and understand its structure."
   ]
  },
  {
   "cell_type": "code",
   "execution_count": 99,
   "id": "2e9b5028",
   "metadata": {},
   "outputs": [
    {
     "data": {
      "text/html": [
       "<div>\n",
       "<style scoped>\n",
       "    .dataframe tbody tr th:only-of-type {\n",
       "        vertical-align: middle;\n",
       "    }\n",
       "\n",
       "    .dataframe tbody tr th {\n",
       "        vertical-align: top;\n",
       "    }\n",
       "\n",
       "    .dataframe thead th {\n",
       "        text-align: right;\n",
       "    }\n",
       "</style>\n",
       "<table border=\"1\" class=\"dataframe\">\n",
       "  <thead>\n",
       "    <tr style=\"text-align: right;\">\n",
       "      <th></th>\n",
       "      <th>Employee_ID</th>\n",
       "      <th>Performance_Rating</th>\n",
       "      <th>Years_Experience</th>\n",
       "      <th>Department</th>\n",
       "    </tr>\n",
       "  </thead>\n",
       "  <tbody>\n",
       "    <tr>\n",
       "      <th>0</th>\n",
       "      <td>101</td>\n",
       "      <td>5</td>\n",
       "      <td>2</td>\n",
       "      <td>HR</td>\n",
       "    </tr>\n",
       "    <tr>\n",
       "      <th>1</th>\n",
       "      <td>102</td>\n",
       "      <td>3</td>\n",
       "      <td>1</td>\n",
       "      <td>Finance</td>\n",
       "    </tr>\n",
       "    <tr>\n",
       "      <th>2</th>\n",
       "      <td>103</td>\n",
       "      <td>7</td>\n",
       "      <td>6</td>\n",
       "      <td>IT</td>\n",
       "    </tr>\n",
       "    <tr>\n",
       "      <th>3</th>\n",
       "      <td>104</td>\n",
       "      <td>8</td>\n",
       "      <td>7</td>\n",
       "      <td>Marketing</td>\n",
       "    </tr>\n",
       "    <tr>\n",
       "      <th>4</th>\n",
       "      <td>105</td>\n",
       "      <td>6</td>\n",
       "      <td>5</td>\n",
       "      <td>developer</td>\n",
       "    </tr>\n",
       "    <tr>\n",
       "      <th>5</th>\n",
       "      <td>106</td>\n",
       "      <td>2</td>\n",
       "      <td>1</td>\n",
       "      <td>analyst</td>\n",
       "    </tr>\n",
       "    <tr>\n",
       "      <th>6</th>\n",
       "      <td>107</td>\n",
       "      <td>9</td>\n",
       "      <td>8</td>\n",
       "      <td>HR</td>\n",
       "    </tr>\n",
       "    <tr>\n",
       "      <th>7</th>\n",
       "      <td>108</td>\n",
       "      <td>6</td>\n",
       "      <td>5</td>\n",
       "      <td>Finance</td>\n",
       "    </tr>\n",
       "    <tr>\n",
       "      <th>8</th>\n",
       "      <td>109</td>\n",
       "      <td>8</td>\n",
       "      <td>9</td>\n",
       "      <td>IT</td>\n",
       "    </tr>\n",
       "    <tr>\n",
       "      <th>9</th>\n",
       "      <td>110</td>\n",
       "      <td>6</td>\n",
       "      <td>4</td>\n",
       "      <td>Marketing</td>\n",
       "    </tr>\n",
       "    <tr>\n",
       "      <th>10</th>\n",
       "      <td>111</td>\n",
       "      <td>10</td>\n",
       "      <td>11</td>\n",
       "      <td>developer</td>\n",
       "    </tr>\n",
       "    <tr>\n",
       "      <th>11</th>\n",
       "      <td>112</td>\n",
       "      <td>4</td>\n",
       "      <td>3</td>\n",
       "      <td>analyst</td>\n",
       "    </tr>\n",
       "    <tr>\n",
       "      <th>12</th>\n",
       "      <td>113</td>\n",
       "      <td>9</td>\n",
       "      <td>8</td>\n",
       "      <td>Marketing</td>\n",
       "    </tr>\n",
       "    <tr>\n",
       "      <th>13</th>\n",
       "      <td>114</td>\n",
       "      <td>10</td>\n",
       "      <td>12</td>\n",
       "      <td>HR</td>\n",
       "    </tr>\n",
       "    <tr>\n",
       "      <th>14</th>\n",
       "      <td>115</td>\n",
       "      <td>8</td>\n",
       "      <td>6</td>\n",
       "      <td>IT</td>\n",
       "    </tr>\n",
       "  </tbody>\n",
       "</table>\n",
       "</div>"
      ],
      "text/plain": [
       "   Employee_ID  Performance_Rating  Years_Experience Department\n",
       "0          101                   5                 2         HR\n",
       "1          102                   3                 1    Finance\n",
       "2          103                   7                 6         IT\n",
       "3          104                   8                 7  Marketing\n",
       "4          105                   6                 5  developer\n",
       "5          106                   2                 1    analyst\n",
       "6          107                   9                 8         HR\n",
       "7          108                   6                 5    Finance\n",
       "8          109                   8                 9         IT\n",
       "9          110                   6                 4  Marketing\n",
       "10         111                  10                11  developer\n",
       "11         112                   4                 3    analyst\n",
       "12         113                   9                 8  Marketing\n",
       "13         114                  10                12         HR\n",
       "14         115                   8                 6         IT"
      ]
     },
     "execution_count": 99,
     "metadata": {},
     "output_type": "execute_result"
    }
   ],
   "source": [
    "df1=pd.DataFrame(data)\n",
    "df1"
   ]
  },
  {
   "cell_type": "code",
   "execution_count": 100,
   "id": "c21ca266",
   "metadata": {},
   "outputs": [
    {
     "data": {
      "text/html": [
       "<div>\n",
       "<style scoped>\n",
       "    .dataframe tbody tr th:only-of-type {\n",
       "        vertical-align: middle;\n",
       "    }\n",
       "\n",
       "    .dataframe tbody tr th {\n",
       "        vertical-align: top;\n",
       "    }\n",
       "\n",
       "    .dataframe thead th {\n",
       "        text-align: right;\n",
       "    }\n",
       "</style>\n",
       "<table border=\"1\" class=\"dataframe\">\n",
       "  <thead>\n",
       "    <tr style=\"text-align: right;\">\n",
       "      <th></th>\n",
       "      <th>Employee_ID</th>\n",
       "      <th>Performance_Rating</th>\n",
       "      <th>Years_Experience</th>\n",
       "      <th>Department</th>\n",
       "    </tr>\n",
       "  </thead>\n",
       "  <tbody>\n",
       "    <tr>\n",
       "      <th>0</th>\n",
       "      <td>101</td>\n",
       "      <td>5</td>\n",
       "      <td>2</td>\n",
       "      <td>HR</td>\n",
       "    </tr>\n",
       "    <tr>\n",
       "      <th>1</th>\n",
       "      <td>102</td>\n",
       "      <td>3</td>\n",
       "      <td>1</td>\n",
       "      <td>Finance</td>\n",
       "    </tr>\n",
       "    <tr>\n",
       "      <th>2</th>\n",
       "      <td>103</td>\n",
       "      <td>7</td>\n",
       "      <td>6</td>\n",
       "      <td>IT</td>\n",
       "    </tr>\n",
       "    <tr>\n",
       "      <th>3</th>\n",
       "      <td>104</td>\n",
       "      <td>8</td>\n",
       "      <td>7</td>\n",
       "      <td>Marketing</td>\n",
       "    </tr>\n",
       "    <tr>\n",
       "      <th>4</th>\n",
       "      <td>105</td>\n",
       "      <td>6</td>\n",
       "      <td>5</td>\n",
       "      <td>developer</td>\n",
       "    </tr>\n",
       "  </tbody>\n",
       "</table>\n",
       "</div>"
      ],
      "text/plain": [
       "  Employee_ID  Performance_Rating  Years_Experience Department\n",
       "0         101                   5                 2         HR\n",
       "1         102                   3                 1    Finance\n",
       "2         103                   7                 6         IT\n",
       "3         104                   8                 7  Marketing\n",
       "4         105                   6                 5  developer"
      ]
     },
     "execution_count": 100,
     "metadata": {},
     "output_type": "execute_result"
    }
   ],
   "source": [
    "df1.head()"
   ]
  },
  {
   "cell_type": "code",
   "execution_count": 101,
   "id": "fc0ac5a5",
   "metadata": {},
   "outputs": [
    {
     "data": {
      "text/html": [
       "<div>\n",
       "<style scoped>\n",
       "    .dataframe tbody tr th:only-of-type {\n",
       "        vertical-align: middle;\n",
       "    }\n",
       "\n",
       "    .dataframe tbody tr th {\n",
       "        vertical-align: top;\n",
       "    }\n",
       "\n",
       "    .dataframe thead th {\n",
       "        text-align: right;\n",
       "    }\n",
       "</style>\n",
       "<table border=\"1\" class=\"dataframe\">\n",
       "  <thead>\n",
       "    <tr style=\"text-align: right;\">\n",
       "      <th></th>\n",
       "      <th>Performance_Rating</th>\n",
       "      <th>Years_Experience</th>\n",
       "    </tr>\n",
       "  </thead>\n",
       "  <tbody>\n",
       "    <tr>\n",
       "      <th>count</th>\n",
       "      <td>15.000000</td>\n",
       "      <td>15.000000</td>\n",
       "    </tr>\n",
       "    <tr>\n",
       "      <th>mean</th>\n",
       "      <td>6.733333</td>\n",
       "      <td>5.866667</td>\n",
       "    </tr>\n",
       "    <tr>\n",
       "      <th>std</th>\n",
       "      <td>2.463060</td>\n",
       "      <td>3.377799</td>\n",
       "    </tr>\n",
       "    <tr>\n",
       "      <th>min</th>\n",
       "      <td>2.000000</td>\n",
       "      <td>1.000000</td>\n",
       "    </tr>\n",
       "    <tr>\n",
       "      <th>25%</th>\n",
       "      <td>5.500000</td>\n",
       "      <td>3.500000</td>\n",
       "    </tr>\n",
       "    <tr>\n",
       "      <th>50%</th>\n",
       "      <td>7.000000</td>\n",
       "      <td>6.000000</td>\n",
       "    </tr>\n",
       "    <tr>\n",
       "      <th>75%</th>\n",
       "      <td>8.500000</td>\n",
       "      <td>8.000000</td>\n",
       "    </tr>\n",
       "    <tr>\n",
       "      <th>max</th>\n",
       "      <td>10.000000</td>\n",
       "      <td>12.000000</td>\n",
       "    </tr>\n",
       "  </tbody>\n",
       "</table>\n",
       "</div>"
      ],
      "text/plain": [
       "       Performance_Rating  Years_Experience\n",
       "count           15.000000         15.000000\n",
       "mean             6.733333          5.866667\n",
       "std              2.463060          3.377799\n",
       "min              2.000000          1.000000\n",
       "25%              5.500000          3.500000\n",
       "50%              7.000000          6.000000\n",
       "75%              8.500000          8.000000\n",
       "max             10.000000         12.000000"
      ]
     },
     "execution_count": 101,
     "metadata": {},
     "output_type": "execute_result"
    }
   ],
   "source": [
    "df1.describe()"
   ]
  },
  {
   "cell_type": "code",
   "execution_count": 102,
   "id": "b86b6351",
   "metadata": {},
   "outputs": [
    {
     "name": "stdout",
     "output_type": "stream",
     "text": [
      "<class 'pandas.core.frame.DataFrame'>\n",
      "RangeIndex: 15 entries, 0 to 14\n",
      "Data columns (total 4 columns):\n",
      " #   Column              Non-Null Count  Dtype \n",
      "---  ------              --------------  ----- \n",
      " 0   Employee_ID         15 non-null     object\n",
      " 1   Performance_Rating  15 non-null     int64 \n",
      " 2   Years_Experience    15 non-null     int64 \n",
      " 3   Department          15 non-null     object\n",
      "dtypes: int64(2), object(2)\n",
      "memory usage: 608.0+ bytes\n"
     ]
    }
   ],
   "source": [
    "df1.info()"
   ]
  },
  {
   "cell_type": "markdown",
   "id": "417de356",
   "metadata": {},
   "source": [
    "# Explore the distribution of performance ratings."
   ]
  },
  {
   "cell_type": "code",
   "execution_count": 111,
   "id": "97460c2b",
   "metadata": {},
   "outputs": [
    {
     "name": "stdout",
     "output_type": "stream",
     "text": [
      "count    15.000000\n",
      "mean      6.733333\n",
      "std       2.463060\n",
      "min       2.000000\n",
      "25%       5.500000\n",
      "50%       7.000000\n",
      "75%       8.500000\n",
      "max      10.000000\n",
      "Name: Performance_Rating, dtype: float64\n"
     ]
    },
    {
     "data": {
      "image/png": "[encoded data removed]",
      "text/plain": [
       "<Figure size 640x480 with 1 Axes>"
      ]
     },
     "metadata": {},
     "output_type": "display_data"
    }
   ],
   "source": [
    "print(df1['Performance_Rating'].describe())               #describing the rating \n",
    "df1['Performance_Rating'].hist(bins=15)     #ploting histrogram \n",
    "plt.title('Distribution of Performance Ratings')\n",
    "plt.xlabel('Performance Rating')\n",
    "plt.ylabel('Frequency')\n",
    "plt.show()\n"
   ]
  },
  {
   "cell_type": "markdown",
   "id": "d491e30f",
   "metadata": {},
   "source": [
    "# Identify factors affecting performance (e.g., experience, department)."
   ]
  },
  {
   "cell_type": "code",
   "execution_count": 63,
   "id": "18ebf45a",
   "metadata": {},
   "outputs": [
    {
     "name": "stdout",
     "output_type": "stream",
     "text": [
      "                    Performance_Rating  Years_Experience\n",
      "Performance_Rating            1.000000          0.948406\n",
      "Years_Experience              0.948406          1.000000\n"
     ]
    }
   ],
   "source": [
    "correlation_matrix = df1[['Performance_Rating', 'Years_Experience']].corr()\n",
    "print(correlation_matrix)"
   ]
  },
  {
   "cell_type": "markdown",
   "id": "3a74e566",
   "metadata": {},
   "source": [
    "# Calculate average performance ratings for each department."
   ]
  },
  {
   "cell_type": "code",
   "execution_count": 68,
   "id": "ab5c670b",
   "metadata": {},
   "outputs": [
    {
     "name": "stdout",
     "output_type": "stream",
     "text": [
      "Department\n",
      "Finance      4.500000\n",
      "HR           8.000000\n",
      "IT           7.666667\n",
      "Marketing    7.666667\n",
      "analyst      3.000000\n",
      "developer    8.000000\n",
      "Name: Performance_Rating, dtype: float64\n"
     ]
    }
   ],
   "source": [
    "average_performance_each_department = df1.groupby('Department')['Performance_Rating'].mean()\n",
    "print(average_performance_each_department)"
   ]
  },
  {
   "cell_type": "markdown",
   "id": "a220a0ed",
   "metadata": {},
   "source": [
    "# Visualize the performance distribution using histograms."
   ]
  },
  {
   "cell_type": "code",
   "execution_count": 105,
   "id": "8bcc76d9",
   "metadata": {},
   "outputs": [
    {
     "name": "stderr",
     "output_type": "stream",
     "text": [
      "C:\\Users\\MY LAPPY HOUSE\\anaconda3\\lib\\site-packages\\seaborn\\_oldcore.py:1119: FutureWarning: use_inf_as_na option is deprecated and will be removed in a future version. Convert inf values to NaN before operating instead.\n",
      "  with pd.option_context('mode.use_inf_as_na', True):\n"
     ]
    },
    {
     "data": {
      "image/png": "[encoded data removed]",
      "text/plain": [
       "<Figure size 640x480 with 1 Axes>"
      ]
     },
     "metadata": {},
     "output_type": "display_data"
    }
   ],
   "source": [
    "sns.histplot(data=df1, x='Performance_Rating', hue='Department',bins=15)\n",
    "plt.title('Performance Ratings Distribution by Department')\n",
    "plt.xlabel('Performance Rating')\n",
    "plt.ylabel('Frequency')\n",
    "plt.show()"
   ]
  },
  {
   "cell_type": "code",
   "execution_count": 72,
   "id": "11a9b907",
   "metadata": {},
   "outputs": [],
   "source": [
    "# Case Study 3: Financial Portfolio Analysis\n",
    "# Problem Statement:\n",
    "# You have a dataset with historical stock prices for multiple companies. Perform the following tasks:\n",
    "\n",
    "# Load and preprocess the stock price data.\n",
    "# Calculate daily returns for each stock.\n",
    "# Calculate portfolio returns and risk.\n",
    "# Optimize the portfolio by adjusting the allocation of each stock.\n",
    "# Visualize the performance and risk of the optimized portfolio.\n"
   ]
  },
  {
   "cell_type": "code",
   "execution_count": 114,
   "id": "b4466a10",
   "metadata": {},
   "outputs": [],
   "source": [
    "import pandas as pd\n",
    "import numpy as np"
   ]
  },
  {
   "cell_type": "code",
   "execution_count": 135,
   "id": "7ebb2031",
   "metadata": {},
   "outputs": [],
   "source": [
    "data1 = {\n",
    "    'Date': pd.date_range(start='2023-01-01', end='2023-01-31'),  \n",
    "    'tsc': np.random.normal(loc=1500,  size=31),  \n",
    "    'Google': np.random.normal(loc=2000, size=31),\n",
    "    'wipro': np.random.normal(loc=300,  size=31)\n",
    "}\n"
   ]
  },
  {
   "cell_type": "code",
   "execution_count": 136,
   "id": "bf4e0227",
   "metadata": {},
   "outputs": [
    {
     "data": {
      "text/html": [
       "<div>\n",
       "<style scoped>\n",
       "    .dataframe tbody tr th:only-of-type {\n",
       "        vertical-align: middle;\n",
       "    }\n",
       "\n",
       "    .dataframe tbody tr th {\n",
       "        vertical-align: top;\n",
       "    }\n",
       "\n",
       "    .dataframe thead th {\n",
       "        text-align: right;\n",
       "    }\n",
       "</style>\n",
       "<table border=\"1\" class=\"dataframe\">\n",
       "  <thead>\n",
       "    <tr style=\"text-align: right;\">\n",
       "      <th></th>\n",
       "      <th>Date</th>\n",
       "      <th>tsc</th>\n",
       "      <th>Google</th>\n",
       "      <th>wipro</th>\n",
       "    </tr>\n",
       "  </thead>\n",
       "  <tbody>\n",
       "    <tr>\n",
       "      <th>0</th>\n",
       "      <td>2023-01-01</td>\n",
       "      <td>1500.802024</td>\n",
       "      <td>2000.201051</td>\n",
       "      <td>299.473697</td>\n",
       "    </tr>\n",
       "    <tr>\n",
       "      <th>1</th>\n",
       "      <td>2023-01-02</td>\n",
       "      <td>1498.357364</td>\n",
       "      <td>2000.513646</td>\n",
       "      <td>299.679596</td>\n",
       "    </tr>\n",
       "    <tr>\n",
       "      <th>2</th>\n",
       "      <td>2023-01-03</td>\n",
       "      <td>1498.931786</td>\n",
       "      <td>2000.514011</td>\n",
       "      <td>300.449239</td>\n",
       "    </tr>\n",
       "    <tr>\n",
       "      <th>3</th>\n",
       "      <td>2023-01-04</td>\n",
       "      <td>1498.681802</td>\n",
       "      <td>2000.675543</td>\n",
       "      <td>300.129166</td>\n",
       "    </tr>\n",
       "    <tr>\n",
       "      <th>4</th>\n",
       "      <td>2023-01-05</td>\n",
       "      <td>1498.893191</td>\n",
       "      <td>2000.145027</td>\n",
       "      <td>300.519907</td>\n",
       "    </tr>\n",
       "    <tr>\n",
       "      <th>5</th>\n",
       "      <td>2023-01-06</td>\n",
       "      <td>1499.765378</td>\n",
       "      <td>1999.338981</td>\n",
       "      <td>299.381987</td>\n",
       "    </tr>\n",
       "    <tr>\n",
       "      <th>6</th>\n",
       "      <td>2023-01-07</td>\n",
       "      <td>1498.757483</td>\n",
       "      <td>1999.917325</td>\n",
       "      <td>299.172707</td>\n",
       "    </tr>\n",
       "    <tr>\n",
       "      <th>7</th>\n",
       "      <td>2023-01-08</td>\n",
       "      <td>1499.554209</td>\n",
       "      <td>1999.411236</td>\n",
       "      <td>301.191191</td>\n",
       "    </tr>\n",
       "    <tr>\n",
       "      <th>8</th>\n",
       "      <td>2023-01-09</td>\n",
       "      <td>1500.763916</td>\n",
       "      <td>2001.032777</td>\n",
       "      <td>299.865111</td>\n",
       "    </tr>\n",
       "    <tr>\n",
       "      <th>9</th>\n",
       "      <td>2023-01-10</td>\n",
       "      <td>1500.500945</td>\n",
       "      <td>1999.197209</td>\n",
       "      <td>300.754198</td>\n",
       "    </tr>\n",
       "    <tr>\n",
       "      <th>10</th>\n",
       "      <td>2023-01-11</td>\n",
       "      <td>1499.665934</td>\n",
       "      <td>1999.929517</td>\n",
       "      <td>300.799412</td>\n",
       "    </tr>\n",
       "    <tr>\n",
       "      <th>11</th>\n",
       "      <td>2023-01-12</td>\n",
       "      <td>1499.304696</td>\n",
       "      <td>1999.978364</td>\n",
       "      <td>300.606268</td>\n",
       "    </tr>\n",
       "    <tr>\n",
       "      <th>12</th>\n",
       "      <td>2023-01-13</td>\n",
       "      <td>1499.487880</td>\n",
       "      <td>2001.321715</td>\n",
       "      <td>300.024038</td>\n",
       "    </tr>\n",
       "    <tr>\n",
       "      <th>13</th>\n",
       "      <td>2023-01-14</td>\n",
       "      <td>1499.782863</td>\n",
       "      <td>2000.848165</td>\n",
       "      <td>301.278518</td>\n",
       "    </tr>\n",
       "    <tr>\n",
       "      <th>14</th>\n",
       "      <td>2023-01-15</td>\n",
       "      <td>1499.175229</td>\n",
       "      <td>2001.499194</td>\n",
       "      <td>300.064000</td>\n",
       "    </tr>\n",
       "    <tr>\n",
       "      <th>15</th>\n",
       "      <td>2023-01-16</td>\n",
       "      <td>1500.402383</td>\n",
       "      <td>2000.515963</td>\n",
       "      <td>299.946194</td>\n",
       "    </tr>\n",
       "    <tr>\n",
       "      <th>16</th>\n",
       "      <td>2023-01-17</td>\n",
       "      <td>1501.179958</td>\n",
       "      <td>2001.201055</td>\n",
       "      <td>300.048431</td>\n",
       "    </tr>\n",
       "    <tr>\n",
       "      <th>17</th>\n",
       "      <td>2023-01-18</td>\n",
       "      <td>1499.116760</td>\n",
       "      <td>2000.785288</td>\n",
       "      <td>300.038978</td>\n",
       "    </tr>\n",
       "    <tr>\n",
       "      <th>18</th>\n",
       "      <td>2023-01-19</td>\n",
       "      <td>1500.658541</td>\n",
       "      <td>2000.906129</td>\n",
       "      <td>299.410437</td>\n",
       "    </tr>\n",
       "    <tr>\n",
       "      <th>19</th>\n",
       "      <td>2023-01-20</td>\n",
       "      <td>1501.266934</td>\n",
       "      <td>2000.035209</td>\n",
       "      <td>299.895846</td>\n",
       "    </tr>\n",
       "    <tr>\n",
       "      <th>20</th>\n",
       "      <td>2023-01-21</td>\n",
       "      <td>1500.596049</td>\n",
       "      <td>1998.641658</td>\n",
       "      <td>299.070583</td>\n",
       "    </tr>\n",
       "    <tr>\n",
       "      <th>21</th>\n",
       "      <td>2023-01-22</td>\n",
       "      <td>1498.792596</td>\n",
       "      <td>1998.698671</td>\n",
       "      <td>298.498771</td>\n",
       "    </tr>\n",
       "    <tr>\n",
       "      <th>22</th>\n",
       "      <td>2023-01-23</td>\n",
       "      <td>1498.322907</td>\n",
       "      <td>2001.364707</td>\n",
       "      <td>301.435188</td>\n",
       "    </tr>\n",
       "    <tr>\n",
       "      <th>23</th>\n",
       "      <td>2023-01-24</td>\n",
       "      <td>1499.382903</td>\n",
       "      <td>1999.311891</td>\n",
       "      <td>301.228780</td>\n",
       "    </tr>\n",
       "    <tr>\n",
       "      <th>24</th>\n",
       "      <td>2023-01-25</td>\n",
       "      <td>1499.856170</td>\n",
       "      <td>1998.387720</td>\n",
       "      <td>297.868209</td>\n",
       "    </tr>\n",
       "    <tr>\n",
       "      <th>25</th>\n",
       "      <td>2023-01-26</td>\n",
       "      <td>1499.258930</td>\n",
       "      <td>1998.587479</td>\n",
       "      <td>298.875838</td>\n",
       "    </tr>\n",
       "    <tr>\n",
       "      <th>26</th>\n",
       "      <td>2023-01-27</td>\n",
       "      <td>1501.651087</td>\n",
       "      <td>2000.960084</td>\n",
       "      <td>298.519491</td>\n",
       "    </tr>\n",
       "    <tr>\n",
       "      <th>27</th>\n",
       "      <td>2023-01-28</td>\n",
       "      <td>1500.547398</td>\n",
       "      <td>2000.390893</td>\n",
       "      <td>299.736842</td>\n",
       "    </tr>\n",
       "    <tr>\n",
       "      <th>28</th>\n",
       "      <td>2023-01-29</td>\n",
       "      <td>1500.057858</td>\n",
       "      <td>1997.470299</td>\n",
       "      <td>298.582284</td>\n",
       "    </tr>\n",
       "    <tr>\n",
       "      <th>29</th>\n",
       "      <td>2023-01-30</td>\n",
       "      <td>1500.728980</td>\n",
       "      <td>2001.596049</td>\n",
       "      <td>299.781835</td>\n",
       "    </tr>\n",
       "    <tr>\n",
       "      <th>30</th>\n",
       "      <td>2023-01-31</td>\n",
       "      <td>1500.956757</td>\n",
       "      <td>1999.562642</td>\n",
       "      <td>300.883052</td>\n",
       "    </tr>\n",
       "  </tbody>\n",
       "</table>\n",
       "</div>"
      ],
      "text/plain": [
       "         Date          tsc       Google       wipro\n",
       "0  2023-01-01  1500.802024  2000.201051  299.473697\n",
       "1  2023-01-02  1498.357364  2000.513646  299.679596\n",
       "2  2023-01-03  1498.931786  2000.514011  300.449239\n",
       "3  2023-01-04  1498.681802  2000.675543  300.129166\n",
       "4  2023-01-05  1498.893191  2000.145027  300.519907\n",
       "5  2023-01-06  1499.765378  1999.338981  299.381987\n",
       "6  2023-01-07  1498.757483  1999.917325  299.172707\n",
       "7  2023-01-08  1499.554209  1999.411236  301.191191\n",
       "8  2023-01-09  1500.763916  2001.032777  299.865111\n",
       "9  2023-01-10  1500.500945  1999.197209  300.754198\n",
       "10 2023-01-11  1499.665934  1999.929517  300.799412\n",
       "11 2023-01-12  1499.304696  1999.978364  300.606268\n",
       "12 2023-01-13  1499.487880  2001.321715  300.024038\n",
       "13 2023-01-14  1499.782863  2000.848165  301.278518\n",
       "14 2023-01-15  1499.175229  2001.499194  300.064000\n",
       "15 2023-01-16  1500.402383  2000.515963  299.946194\n",
       "16 2023-01-17  1501.179958  2001.201055  300.048431\n",
       "17 2023-01-18  1499.116760  2000.785288  300.038978\n",
       "18 2023-01-19  1500.658541  2000.906129  299.410437\n",
       "19 2023-01-20  1501.266934  2000.035209  299.895846\n",
       "20 2023-01-21  1500.596049  1998.641658  299.070583\n",
       "21 2023-01-22  1498.792596  1998.698671  298.498771\n",
       "22 2023-01-23  1498.322907  2001.364707  301.435188\n",
       "23 2023-01-24  1499.382903  1999.311891  301.228780\n",
       "24 2023-01-25  1499.856170  1998.387720  297.868209\n",
       "25 2023-01-26  1499.258930  1998.587479  298.875838\n",
       "26 2023-01-27  1501.651087  2000.960084  298.519491\n",
       "27 2023-01-28  1500.547398  2000.390893  299.736842\n",
       "28 2023-01-29  1500.057858  1997.470299  298.582284\n",
       "29 2023-01-30  1500.728980  2001.596049  299.781835\n",
       "30 2023-01-31  1500.956757  1999.562642  300.883052"
      ]
     },
     "execution_count": 136,
     "metadata": {},
     "output_type": "execute_result"
    }
   ],
   "source": [
    "df3=pd.DataFrame(data1)\n",
    "df3"
   ]
  },
  {
   "cell_type": "code",
   "execution_count": null,
   "id": "3530d8c6",
   "metadata": {},
   "outputs": [],
   "source": []
  }
 ],
 "metadata": {
  "kernelspec": {
   "display_name": "Python 3 (ipykernel)",
   "language": "python",
   "name": "python3"
  },
  "language_info": {
   "codemirror_mode": {
    "name": "ipython",
    "version": 3
   },
   "file_extension": ".py",
   "mimetype": "text/x-python",
   "name": "python",
   "nbconvert_exporter": "python",
   "pygments_lexer": "ipython3",
   "version": "3.9.18"
  }
 },
 "nbformat": 4,
 "nbformat_minor": 5
}
