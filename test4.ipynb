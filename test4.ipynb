{
 "cells": [
  {
   "cell_type": "code",
   "execution_count": 40,
   "id": "fd115c5b",
   "metadata": {},
   "outputs": [],
   "source": [
    "# Q.1 Solve the problem statement : \n",
    "# If n is odd, print Weird\n",
    "# If n is even and in the inclusive range of 2 to 5, print Not Weird\n",
    "# If n is even and in the inclusive range of 6 to 20, print Weird\n",
    "# If n is even and greater than 20, print Not Weird"
   ]
  },
  {
   "cell_type": "code",
   "execution_count": 44,
   "id": "d2441f94",
   "metadata": {},
   "outputs": [
    {
     "name": "stdout",
     "output_type": "stream",
     "text": [
      "enter number6\n",
      "weird\n"
     ]
    }
   ],
   "source": [
    "n=int(input(\"enter number\"))\n",
    "if (n%2 != 0):\n",
    "    print(\"weird\")\n",
    "elif(2<= n <= 5):\n",
    "    print(\"not weird\")\n",
    "elif(6<= n <= 20):\n",
    "    print(\"weird\")\n",
    "else:\n",
    "    print(\"not weird\")"
   ]
  },
  {
   "cell_type": "code",
   "execution_count": 45,
   "id": "91401b96",
   "metadata": {},
   "outputs": [],
   "source": [
    "# Q.2 Solve this :\n",
    "# The included code stub will read an integer, n, from STDIN. Without using any string methods, try to print the following: \n",
    "# 123……..n\n",
    "# Note that \"...\" represents the consecutive values in between.\n",
    "# Example\n",
    "# n = 5\n",
    "# \n",
    "# Print the string 12345 .\n",
    "# \n",
    "# Input Format\n",
    "# The first line contains an integer n.\n",
    "# \n",
    "# Constraints\n",
    "# 1 ≤ n ≤ 150\n",
    "# Output Format\n",
    "# Print the list of integers from 1 through n as a string, without spaces."
   ]
  },
  {
   "cell_type": "code",
   "execution_count": 46,
   "id": "08153c01",
   "metadata": {},
   "outputs": [
    {
     "name": "stdout",
     "output_type": "stream",
     "text": [
      "5\n",
      "12345"
     ]
    }
   ],
   "source": [
    "n = int(input())\n",
    "if (1<=n<=150):\n",
    "    for i in range(1, n+1):\n",
    "        print(i, end='')\n",
    "else:\n",
    "    print(\"enter valid value for n \")"
   ]
  },
  {
   "cell_type": "code",
   "execution_count": 47,
   "id": "a3aa9d23",
   "metadata": {},
   "outputs": [],
   "source": [
    "# Q.3 Task\n",
    "# Let’s learn about list comprehension! You are given three integers x, y, and z representing the dimensions of a cuboid along\n",
    "# with an integer n. Print a list of all possible coordinates given by (i, j, k) on a 3D grid where the sum of i + j + k is not\n",
    "# equal to n. Here, 0 <= i <= x; 0 <= j <= y; 0 <= k <= z. Please use list comprehensions rather than multiple loops, as a \n",
    "# learning exercise.\n",
    "# \n",
    "# Example\n",
    "# x = 1\n",
    "# y = 1\n",
    "# z = 2\n",
    "# n = 3 \n",
    "# \n",
    "# All permutations of [i, j, k] are:\n",
    "# [[0, 0, 0], [0, 0, 1], [0, 0, 2], [0, 1, 0], [0, 1, 1], [0, 1, 2], [1, 0, 0], [1, 0, 1], [1, 0, 2], [1, 1, 0],\n",
    "#  [1, 1, 1], [1, 1, 2]].\n",
    "# Print an array of the elements that do not sum to n = 3.\n",
    "# [[0, 0, 0], [0, 0, 1], [0, 0, 2], [0, 1, 0], [0, 1, 1], [1, 0, 0], [1, 0, 1],  [1, 1, 0],  [1, 1, 2]]\n",
    "# Input Format\n",
    "# Four integers x, y, z and n, each on a separate line.\n",
    "# \n",
    "# Constraints\n",
    "# Print the list in lexicographic increasing order.\n"
   ]
  },
  {
   "cell_type": "code",
   "execution_count": 48,
   "id": "7fdcf7b9",
   "metadata": {},
   "outputs": [
    {
     "name": "stdout",
     "output_type": "stream",
     "text": [
      "1\n",
      "1\n",
      "2\n",
      "3\n",
      "[[0, 0, 0], [0, 0, 1], [0, 0, 2], [0, 1, 0], [0, 1, 1], [0, 1, 2], [1, 0, 0], [1, 0, 1], [1, 0, 2], [1, 1, 0], [1, 1, 1], [1, 1, 2]]\n",
      "[[0, 0, 0], [0, 0, 1], [0, 0, 2], [0, 1, 0], [0, 1, 1], [1, 0, 0], [1, 0, 1], [1, 1, 0], [1, 1, 2]]\n"
     ]
    }
   ],
   "source": [
    "x = int(input())\n",
    "y = int(input())\n",
    "z = int(input())\n",
    "n = int(input())\n",
    "print(list([i,j,k] for i in range(x+1) for j in range(y+1) for k in range(z+1) ))\n",
    "print(list([i,j,k] for i in range(x+1) for j in range(y+1) for k in range(z+1)  if i+j+k !=n))"
   ]
  },
  {
   "cell_type": "code",
   "execution_count": 49,
   "id": "49562dd6",
   "metadata": {},
   "outputs": [],
   "source": [
    "# Q.4 Task\n",
    "# Given the participants’ score sheet for your University Sports Day, you must find the runner-up score. You are given n scores. \n",
    "# Store them in a list and find the score of the runner-up.\n",
    "# \n",
    "# Input Format\n",
    "# The first line contains n. The second line contains an array A[] of n integers are each separated by a space.\n",
    "# Constraints\n",
    "# 2 ≤  n ≤  10\n",
    "# -100 ≤  A[i] ≤ 100\n",
    "# \n",
    "# Output Format\n",
    "# Print the runner-up score.\n",
    "# \n",
    "# Sample Input 0\n",
    "# 5\n",
    "# \n",
    "# 2 3 6 6 5\n",
    "# Sample Output 0\n",
    "# 5\n",
    "#  \n",
    "# Explanation 0\n",
    "# The given list is [2, 3, 6, 6, 5]. The maximum score is 6, the second maximum score is 5. Hence, we print 5 as the runner-up \n",
    "# score."
   ]
  },
  {
   "cell_type": "code",
   "execution_count": 50,
   "id": "d042d847",
   "metadata": {},
   "outputs": [
    {
     "name": "stdout",
     "output_type": "stream",
     "text": [
      "5\n",
      "4 5 7 8 9\n",
      "8\n"
     ]
    }
   ],
   "source": [
    "n=int(input())\n",
    "scores=list(map(int,input().split()))\n",
    "scores.sort(reverse=True)\n",
    "runnerup=None\n",
    "for score in scores:\n",
    "    if score<max(scores):\n",
    "        runnerup=score\n",
    "        break\n",
    "print(runnerup)"
   ]
  },
  {
   "cell_type": "code",
   "execution_count": null,
   "id": "86b1132c",
   "metadata": {},
   "outputs": [],
   "source": [
    "# Q.5 Task\n",
    "# \n",
    "# Given the names and grades for each student in a class of N students, store them in a nested list and print the name(s) of \n",
    "# any student(s) having the second lowest grade.\n",
    "# \n",
    "# \n",
    "# Note: If there are multiple students with the second lowest grade, order their names alphabetically and print each name on \n",
    "# a new line.\n",
    "\n",
    "# Example\n",
    "# records  = [[ “chi”, 20.0]], [“beta”, 50.0], [“alpha”, 50.0]\n",
    "# \n",
    "# The ordered list of scores is [20.0, 50.0], so the second lowest score is 50.0. There are two students with that score: \n",
    "# [“beta”, “alpha”]. Ordered alphabetically, the names are printed as:\n",
    "\n",
    "# alpha\n",
    "# \n",
    "# beta\n",
    "#  \n",
    "# Input Format\n",
    "# The first line contains an integer,n, the number of students.\n",
    "# \n",
    "# The 2N subsequent lines describe each student over lines.\n",
    "# \n",
    "# \n",
    "# The first line contains a student’s name.\n",
    "# The second line contains their grade.\n",
    "# Constraints\n",
    "# \n",
    "# 2 <= N <= 5\n",
    "# There will always be one or more students having the second lowest grade.\n",
    "#  \n",
    "# Output Format\n",
    "# Print the name(s) of any student(s) having the second lowest grade in. If there are multiple students, order their names\n",
    "# alphabetically and print each one on a new line.\n",
    "# \n",
    "# Sample Input 0\n",
    "# 5\n",
    "# Harry\n",
    "# 37.21\n",
    "# Berry\n",
    "# 37.21\n",
    "# Tina\n",
    "# 37.2\n",
    "# Akriti\n",
    "# 41\n",
    "# Harsh\n",
    "# 39\n",
    "\n",
    "\n",
    "# Sample Output 0\n",
    "# Berry\n",
    "# \n",
    "# Harry\n",
    "\n"
   ]
  },
  {
   "cell_type": "code",
   "execution_count": 51,
   "id": "4770128d",
   "metadata": {},
   "outputs": [
    {
     "name": "stdout",
     "output_type": "stream",
     "text": [
      "3\n",
      "pri\n",
      "56\n",
      "anu\n",
      "78\n",
      "priya\n",
      "67\n",
      "priya\n"
     ]
    }
   ],
   "source": [
    "n = int(input())\n",
    "students = []\n",
    "for _ in range(n):\n",
    "    name = input()\n",
    "    score = float(input())\n",
    "    students.append([name, score])\n",
    "students.sort(key=lambda x: x[1])\n",
    "second_lowest_grade = sorted(set(score for name, score in students))[1]\n",
    "second_lowest_students = [name for name, score in students if score == second_lowest_grade]\n",
    "second_lowest_students.sort()\n",
    "for name in second_lowest_students:\n",
    "    print(name)"
   ]
  },
  {
   "cell_type": "code",
   "execution_count": null,
   "id": "dbf64374",
   "metadata": {},
   "outputs": [],
   "source": []
  }
 ],
 "metadata": {
  "kernelspec": {
   "display_name": "Python 3 (ipykernel)",
   "language": "python",
   "name": "python3"
  },
  "language_info": {
   "codemirror_mode": {
    "name": "ipython",
    "version": 3
   },
   "file_extension": ".py",
   "mimetype": "text/x-python",
   "name": "python",
   "nbconvert_exporter": "python",
   "pygments_lexer": "ipython3",
   "version": "3.9.18"
  }
 },
 "nbformat": 4,
 "nbformat_minor": 5
}
